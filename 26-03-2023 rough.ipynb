{
 "cells": [
  {
   "cell_type": "code",
   "execution_count": 9,
   "id": "cfc12624",
   "metadata": {},
   "outputs": [
    {
     "name": "stdout",
     "output_type": "stream",
     "text": [
      "5\n",
      "25\n",
      "5\n"
     ]
    }
   ],
   "source": [
    "class calci():\n",
    "    def add(self,a,b):\n",
    "        print(a+b)\n",
    "    def mul(self,a,b):\n",
    "        print(a*b)\n",
    "    def div(self,a,b):\n",
    "        print(a//b)\n",
    "c = calci()\n",
    "c.add(2,3)\n",
    "c.mul(5,5)\n",
    "c.div(25,5)"
   ]
  },
  {
   "cell_type": "code",
   "execution_count": 10,
   "id": "9b1fe335",
   "metadata": {},
   "outputs": [
    {
     "name": "stdout",
     "output_type": "stream",
     "text": [
      "10800\n"
     ]
    }
   ],
   "source": [
    "class gold():\n",
    "    def goldrate(self,gram,one_gramprice):\n",
    "            print(gram*one_gramprice)\n",
    "c = gold()\n",
    "c.goldrate(2,5400)"
   ]
  },
  {
   "cell_type": "code",
   "execution_count": 11,
   "id": "af260efe",
   "metadata": {},
   "outputs": [
    {
     "name": "stdout",
     "output_type": "stream",
     "text": [
      "5000\n"
     ]
    }
   ],
   "source": [
    "class golrate():\n",
    "    def __init__(self,gram):\n",
    "        self.gram = gram\n",
    "    def today_goldrate(self,total_gram):\n",
    "        print(total_gram*self.gram)\n",
    "c = golrate(1000)\n",
    "c.today_goldrate(5)\n",
    "    "
   ]
  },
  {
   "cell_type": "code",
   "execution_count": null,
   "id": "a9720e4c",
   "metadata": {},
   "outputs": [],
   "source": []
  }
 ],
 "metadata": {
  "kernelspec": {
   "display_name": "Python 3 (ipykernel)",
   "language": "python",
   "name": "python3"
  },
  "language_info": {
   "codemirror_mode": {
    "name": "ipython",
    "version": 3
   },
   "file_extension": ".py",
   "mimetype": "text/x-python",
   "name": "python",
   "nbconvert_exporter": "python",
   "pygments_lexer": "ipython3",
   "version": "3.9.13"
  }
 },
 "nbformat": 4,
 "nbformat_minor": 5
}
