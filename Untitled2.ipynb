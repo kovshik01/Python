{
 "cells": [
  {
   "cell_type": "code",
   "execution_count": 1,
   "id": "89a3c2d1",
   "metadata": {},
   "outputs": [
    {
     "name": "stdout",
     "output_type": "stream",
     "text": [
      "show me the id\n",
      "abc\n",
      "enter red or green or orange\n",
      "red\n",
      "abc\n",
      "red\n"
     ]
    }
   ],
   "source": [
    "police=input(\"show me the id\\n\")\n",
    "signal=input(\"enter red or green or orange\\n\")\n",
    "print(police)\n",
    "print(signal)"
   ]
  },
  {
   "cell_type": "code",
   "execution_count": null,
   "id": "e5eef36c",
   "metadata": {},
   "outputs": [],
   "source": []
  }
 ],
 "metadata": {
  "kernelspec": {
   "display_name": "Python 3 (ipykernel)",
   "language": "python",
   "name": "python3"
  },
  "language_info": {
   "codemirror_mode": {
    "name": "ipython",
    "version": 3
   },
   "file_extension": ".py",
   "mimetype": "text/x-python",
   "name": "python",
   "nbconvert_exporter": "python",
   "pygments_lexer": "ipython3",
   "version": "3.9.13"
  }
 },
 "nbformat": 4,
 "nbformat_minor": 5
}
