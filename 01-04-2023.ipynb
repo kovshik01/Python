{
 "cells": [
  {
   "cell_type": "code",
   "execution_count": 9,
   "id": "59c0e4f3",
   "metadata": {},
   "outputs": [
    {
     "name": "stdout",
     "output_type": "stream",
     "text": [
      "bat\n"
     ]
    }
   ],
   "source": [
    "from abc import ABC , abstractmethod\n",
    "class mandat(ABC):\n",
    "    \n",
    "    @abstractmethod\n",
    "    def bat(self):\n",
    "        pass\n",
    "    @abstractmethod\n",
    "    def ball(self):\n",
    "        pass\n",
    "\n",
    "class play(mandat):\n",
    "    \n",
    "    def bat(self):\n",
    "        print(\"bat\")\n",
    "    \n",
    "    def ball(self):\n",
    "        print(\"ball\")\n",
    "        \n",
    "    def glove(self):\n",
    "        print(\"glove\")\n",
    "    \n",
    "    def stump(self):\n",
    "        print(\"stump\")\n",
    "a = play()\n",
    "a.bat()\n",
    "# this method is used to recheck and make changes in a code at the starting level itself."
   ]
  },
  {
   "cell_type": "code",
   "execution_count": 11,
   "id": "eb66347c",
   "metadata": {},
   "outputs": [
    {
     "name": "stdout",
     "output_type": "stream",
     "text": [
      "mul\n"
     ]
    }
   ],
   "source": [
    "class test():\n",
    "    \n",
    "    def add(self):\n",
    "        print(\"add\")\n",
    "    def sub(self):\n",
    "        print(\"sub\")\n",
    "    @staticmethod\n",
    "    def div():\n",
    "        \n",
    "        print(\"div\")\n",
    "    @staticmethod\n",
    "    def mul():\n",
    "        print(\"mul\")\n",
    "test.mul()\n"
   ]
  },
  {
   "cell_type": "code",
   "execution_count": 10,
   "id": "c6f7de24",
   "metadata": {},
   "outputs": [
    {
     "name": "stdout",
     "output_type": "stream",
     "text": [
      "bat\n"
     ]
    }
   ],
   "source": [
    "from abc import ABC , abstractmethod\n",
    "class mandat(ABC):\n",
    "    @abstractmethod\n",
    "    def bat(self):\n",
    "        pass\n",
    "    @abstractmethod\n",
    "    def ball(self):\n",
    "        pass\n",
    "class play(mandat):\n",
    "    def bat(self):\n",
    "        print(\"bat\")\n",
    "    def ball(self):\n",
    "        print(\"ball\")\n",
    "    def glove(self):\n",
    "        print(\"glove\")\n",
    "a=play()\n",
    "a.bat()"
   ]
  },
  {
   "cell_type": "code",
   "execution_count": null,
   "id": "ad411301",
   "metadata": {},
   "outputs": [],
   "source": []
  }
 ],
 "metadata": {
  "kernelspec": {
   "display_name": "Python 3 (ipykernel)",
   "language": "python",
   "name": "python3"
  },
  "language_info": {
   "codemirror_mode": {
    "name": "ipython",
    "version": 3
   },
   "file_extension": ".py",
   "mimetype": "text/x-python",
   "name": "python",
   "nbconvert_exporter": "python",
   "pygments_lexer": "ipython3",
   "version": "3.9.13"
  }
 },
 "nbformat": 4,
 "nbformat_minor": 5
}
