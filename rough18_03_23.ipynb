{
 "cells": [
  {
   "cell_type": "code",
   "execution_count": 8,
   "id": "7fb7d0d7",
   "metadata": {},
   "outputs": [
    {
     "name": "stdout",
     "output_type": "stream",
     "text": [
      "['apple', 'mango', 'pineapple']\n"
     ]
    }
   ],
   "source": [
    "a=[\"apple\",\"mango\",\"apple\",\"mango\",\"pineapple\",\"apple\",\"strawberry\",\"pineapple\"]\n",
    "b=[]\n",
    "c=set(a)\n",
    "for i in a:\n",
    "    if a.count(i) >1:\n",
    "        if i not in b:\n",
    "            b.append(i)\n",
    "print(b)"
   ]
  },
  {
   "cell_type": "code",
   "execution_count": 16,
   "id": "56cd7937",
   "metadata": {},
   "outputs": [
    {
     "name": "stdout",
     "output_type": "stream",
     "text": [
      "['carrot', 'beans', 'apple']\n"
     ]
    }
   ],
   "source": [
    "a=[\"carrot\",\"beans\",\"carrot\",\"beans\",\"apple\",\"cabbage\",\"apple\"]\n",
    "b=[]\n",
    "c=set(a)\n",
    "for i in a:\n",
    "    if a.count(i) >1:\n",
    "        if i not in b:\n",
    "            b.append(i)\n",
    "print(b)"
   ]
  },
  {
   "cell_type": "code",
   "execution_count": 17,
   "id": "5a859a02",
   "metadata": {},
   "outputs": [
    {
     "name": "stdout",
     "output_type": "stream",
     "text": [
      "['red', 'blue', 'green', 'orange']\n",
      "{'green', 'orange', 'black', 'blue', 'red'}\n"
     ]
    }
   ],
   "source": [
    "a=[\"red\",\"blue\",\"red\",\"blue\",\"green\",\"orange\",\"orange\",\"green\",\"black\"]\n",
    "b=[]\n",
    "c=set(a)\n",
    "for i in a:\n",
    "    if a.count(i) > 1:\n",
    "        if i not in b:\n",
    "            b.append(i)\n",
    "print(b)\n",
    "print(c)"
   ]
  },
  {
   "cell_type": "code",
   "execution_count": 21,
   "id": "a5e32c20",
   "metadata": {},
   "outputs": [
    {
     "name": "stdout",
     "output_type": "stream",
     "text": [
      "{'sak', 'jagan', 'syed', 'sri', 'kov'}\n",
      "['kov', 'sak', 'syed']\n"
     ]
    }
   ],
   "source": [
    "a=[\"kov\",\"sak\",\"syed\",\"sri\",\"jagan\",\"syed\",\"kov\",\"sak\",\"sak\"]\n",
    "b=[]\n",
    "c=set(a)\n",
    "for i in a:\n",
    "    if a.count(i) > 1:\n",
    "        if i not in b:\n",
    "            b.append(i)\n",
    "print(c)\n",
    "print(b)"
   ]
  },
  {
   "cell_type": "code",
   "execution_count": null,
   "id": "fe0f4895",
   "metadata": {},
   "outputs": [],
   "source": []
  }
 ],
 "metadata": {
  "kernelspec": {
   "display_name": "Python 3 (ipykernel)",
   "language": "python",
   "name": "python3"
  },
  "language_info": {
   "codemirror_mode": {
    "name": "ipython",
    "version": 3
   },
   "file_extension": ".py",
   "mimetype": "text/x-python",
   "name": "python",
   "nbconvert_exporter": "python",
   "pygments_lexer": "ipython3",
   "version": "3.9.13"
  }
 },
 "nbformat": 4,
 "nbformat_minor": 5
}
