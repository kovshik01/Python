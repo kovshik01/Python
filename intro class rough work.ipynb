{
 "cells": [
  {
   "cell_type": "code",
   "execution_count": 1,
   "id": "6f27dcbb",
   "metadata": {},
   "outputs": [
    {
     "name": "stdout",
     "output_type": "stream",
     "text": [
      "hi\n"
     ]
    }
   ],
   "source": [
    "print(\"hi\")"
   ]
  },
  {
   "cell_type": "code",
   "execution_count": 2,
   "id": "eb4cfb0f",
   "metadata": {},
   "outputs": [
    {
     "data": {
      "text/plain": [
       "'\\ntoday is a great day\\ni love this day\\nlets rock\\n'"
      ]
     },
     "execution_count": 2,
     "metadata": {},
     "output_type": "execute_result"
    }
   ],
   "source": [
    "\"\"\"\n",
    "today is a great day\n",
    "i love this day\n",
    "lets rock\n",
    "\"\"\""
   ]
  },
  {
   "cell_type": "code",
   "execution_count": 3,
   "id": "285fd0fc",
   "metadata": {},
   "outputs": [
    {
     "name": "stdout",
     "output_type": "stream",
     "text": [
      "lets rock\n",
      "today\n"
     ]
    }
   ],
   "source": [
    "print(\"lets rock\\ntoday\")"
   ]
  },
  {
   "cell_type": "code",
   "execution_count": 4,
   "id": "67753e96",
   "metadata": {},
   "outputs": [
    {
     "name": "stdout",
     "output_type": "stream",
     "text": [
      "lets rock\ttoday\n"
     ]
    }
   ],
   "source": [
    "print(\"lets rock\\ttoday\")"
   ]
  },
  {
   "cell_type": "code",
   "execution_count": 5,
   "id": "56cab6f0",
   "metadata": {},
   "outputs": [],
   "source": [
    "a = \"be calm\""
   ]
  },
  {
   "cell_type": "code",
   "execution_count": 6,
   "id": "44df684e",
   "metadata": {},
   "outputs": [
    {
     "name": "stdout",
     "output_type": "stream",
     "text": [
      "be calm\n"
     ]
    }
   ],
   "source": [
    "print(a\n",
    "    )"
   ]
  },
  {
   "cell_type": "code",
   "execution_count": 7,
   "id": "e8e99ff9",
   "metadata": {},
   "outputs": [
    {
     "name": "stdout",
     "output_type": "stream",
     "text": [
      "0abc\n"
     ]
    }
   ],
   "source": [
    "print(\"0abc\")"
   ]
  },
  {
   "cell_type": "code",
   "execution_count": 8,
   "id": "8578d336",
   "metadata": {},
   "outputs": [],
   "source": [
    "myvar = \"kovshik\""
   ]
  },
  {
   "cell_type": "code",
   "execution_count": 9,
   "id": "90c32ed7",
   "metadata": {},
   "outputs": [
    {
     "ename": "SyntaxError",
     "evalue": "invalid syntax (2676131423.py, line 1)",
     "output_type": "error",
     "traceback": [
      "\u001b[1;36m  File \u001b[1;32m\"C:\\Users\\kovhik anand t\\AppData\\Local\\Temp\\ipykernel_15332\\2676131423.py\"\u001b[1;36m, line \u001b[1;32m1\u001b[0m\n\u001b[1;33m    0myvar = \"kovshik\"\u001b[0m\n\u001b[1;37m     ^\u001b[0m\n\u001b[1;31mSyntaxError\u001b[0m\u001b[1;31m:\u001b[0m invalid syntax\n"
     ]
    }
   ],
   "source": [
    "0myvar = \"kovshik\""
   ]
  },
  {
   "cell_type": "code",
   "execution_count": 10,
   "id": "bc9adff0",
   "metadata": {},
   "outputs": [],
   "source": [
    "my_var = \"kovshik\""
   ]
  },
  {
   "cell_type": "code",
   "execution_count": 11,
   "id": "0b4fdfe0",
   "metadata": {},
   "outputs": [],
   "source": [
    "a=\"kovshik\""
   ]
  },
  {
   "cell_type": "code",
   "execution_count": 12,
   "id": "65a17df5",
   "metadata": {},
   "outputs": [
    {
     "name": "stdout",
     "output_type": "stream",
     "text": [
      "<class 'str'>\n"
     ]
    }
   ],
   "source": [
    "print(type(a))"
   ]
  },
  {
   "cell_type": "code",
   "execution_count": 13,
   "id": "ba11d4ec",
   "metadata": {},
   "outputs": [],
   "source": [
    "a=\"01kovshik\""
   ]
  },
  {
   "cell_type": "code",
   "execution_count": 14,
   "id": "0ff8ea62",
   "metadata": {},
   "outputs": [
    {
     "name": "stdout",
     "output_type": "stream",
     "text": [
      "<class 'str'>\n"
     ]
    }
   ],
   "source": [
    "print(type(a))"
   ]
  },
  {
   "cell_type": "code",
   "execution_count": 15,
   "id": "8647896a",
   "metadata": {},
   "outputs": [],
   "source": [
    "a= \"01010101\""
   ]
  },
  {
   "cell_type": "code",
   "execution_count": 16,
   "id": "b5e5765a",
   "metadata": {},
   "outputs": [
    {
     "name": "stdout",
     "output_type": "stream",
     "text": [
      "<class 'str'>\n"
     ]
    }
   ],
   "source": [
    "print(type(a))"
   ]
  },
  {
   "cell_type": "code",
   "execution_count": 17,
   "id": "12a4f332",
   "metadata": {},
   "outputs": [],
   "source": [
    "b = \"10.10\""
   ]
  },
  {
   "cell_type": "code",
   "execution_count": 18,
   "id": "0c7498ec",
   "metadata": {},
   "outputs": [
    {
     "name": "stdout",
     "output_type": "stream",
     "text": [
      "<class 'str'>\n"
     ]
    }
   ],
   "source": [
    "print(type(b))"
   ]
  },
  {
   "cell_type": "code",
   "execution_count": 19,
   "id": "9d8dbd2a",
   "metadata": {},
   "outputs": [],
   "source": [
    "a = 10"
   ]
  },
  {
   "cell_type": "code",
   "execution_count": 20,
   "id": "5b85b25f",
   "metadata": {},
   "outputs": [
    {
     "data": {
      "text/plain": [
       "int"
      ]
     },
     "execution_count": 20,
     "metadata": {},
     "output_type": "execute_result"
    }
   ],
   "source": [
    "type(a)"
   ]
  },
  {
   "cell_type": "code",
   "execution_count": 21,
   "id": "0972991e",
   "metadata": {},
   "outputs": [],
   "source": [
    "a = 5.0"
   ]
  },
  {
   "cell_type": "code",
   "execution_count": 22,
   "id": "f8de4529",
   "metadata": {},
   "outputs": [
    {
     "data": {
      "text/plain": [
       "float"
      ]
     },
     "execution_count": 22,
     "metadata": {},
     "output_type": "execute_result"
    }
   ],
   "source": [
    "type(a)"
   ]
  },
  {
   "cell_type": "code",
   "execution_count": 23,
   "id": "a3920b5a",
   "metadata": {},
   "outputs": [],
   "source": [
    "a = \"1\""
   ]
  },
  {
   "cell_type": "code",
   "execution_count": 24,
   "id": "dba792e6",
   "metadata": {},
   "outputs": [
    {
     "data": {
      "text/plain": [
       "str"
      ]
     },
     "execution_count": 24,
     "metadata": {},
     "output_type": "execute_result"
    }
   ],
   "source": [
    "type(a)"
   ]
  },
  {
   "cell_type": "code",
   "execution_count": 25,
   "id": "c918e550",
   "metadata": {},
   "outputs": [
    {
     "name": "stdout",
     "output_type": "stream",
     "text": [
      "True\n"
     ]
    }
   ],
   "source": [
    "print(isinstance(a,str))"
   ]
  },
  {
   "cell_type": "code",
   "execution_count": 26,
   "id": "cc44fba2",
   "metadata": {},
   "outputs": [],
   "source": [
    "a=10"
   ]
  },
  {
   "cell_type": "code",
   "execution_count": 27,
   "id": "061d3679",
   "metadata": {},
   "outputs": [
    {
     "name": "stdout",
     "output_type": "stream",
     "text": [
      "False\n"
     ]
    }
   ],
   "source": [
    "print(isinstance(a,str))"
   ]
  },
  {
   "cell_type": "code",
   "execution_count": 28,
   "id": "6a8eba6c",
   "metadata": {},
   "outputs": [],
   "source": [
    "a=\"Gautami putra satakarni\""
   ]
  },
  {
   "cell_type": "code",
   "execution_count": 29,
   "id": "3d5310e3",
   "metadata": {},
   "outputs": [
    {
     "name": "stdout",
     "output_type": "stream",
     "text": [
      "23\n"
     ]
    }
   ],
   "source": [
    "print(len(a))"
   ]
  },
  {
   "cell_type": "code",
   "execution_count": 30,
   "id": "85eea94b",
   "metadata": {},
   "outputs": [
    {
     "name": "stdout",
     "output_type": "stream",
     "text": [
      " \n"
     ]
    }
   ],
   "source": [
    "print(min(a))"
   ]
  },
  {
   "cell_type": "code",
   "execution_count": 31,
   "id": "97a5938a",
   "metadata": {},
   "outputs": [
    {
     "name": "stdout",
     "output_type": "stream",
     "text": [
      "[' ', ' ', 'G', 'a', 'a', 'a', 'a', 'a', 'a', 'i', 'i', 'k', 'm', 'n', 'p', 'r', 'r', 's', 't', 't', 't', 'u', 'u']\n"
     ]
    }
   ],
   "source": [
    "print(sorted(a))"
   ]
  },
  {
   "cell_type": "code",
   "execution_count": 32,
   "id": "3fac2e0c",
   "metadata": {},
   "outputs": [
    {
     "name": "stdout",
     "output_type": "stream",
     "text": [
      " \n"
     ]
    }
   ],
   "source": [
    "print(min(a))"
   ]
  },
  {
   "cell_type": "code",
   "execution_count": 33,
   "id": "0b8d7d7c",
   "metadata": {},
   "outputs": [
    {
     "name": "stdout",
     "output_type": "stream",
     "text": [
      " \n"
     ]
    }
   ],
   "source": [
    "print(min(a))"
   ]
  },
  {
   "cell_type": "code",
   "execution_count": 34,
   "id": "93fc05dc",
   "metadata": {},
   "outputs": [
    {
     "name": "stdout",
     "output_type": "stream",
     "text": [
      "u\n"
     ]
    }
   ],
   "source": [
    "print(max(a))"
   ]
  },
  {
   "cell_type": "code",
   "execution_count": 35,
   "id": "5c62956b",
   "metadata": {},
   "outputs": [
    {
     "name": "stdout",
     "output_type": "stream",
     "text": [
      "False\n"
     ]
    }
   ],
   "source": [
    "print(a.isalpha())"
   ]
  },
  {
   "cell_type": "code",
   "execution_count": 36,
   "id": "d9a67646",
   "metadata": {},
   "outputs": [
    {
     "name": "stdout",
     "output_type": "stream",
     "text": [
      "GAUTAMI PUTRA SATAKARNI\n"
     ]
    }
   ],
   "source": [
    "print(a.upper())"
   ]
  },
  {
   "cell_type": "code",
   "execution_count": 37,
   "id": "014c34a3",
   "metadata": {},
   "outputs": [
    {
     "name": "stdout",
     "output_type": "stream",
     "text": [
      "gautami putra satakarni\n"
     ]
    }
   ],
   "source": [
    "print(a.lower())"
   ]
  },
  {
   "cell_type": "code",
   "execution_count": 38,
   "id": "b2202f52",
   "metadata": {},
   "outputs": [
    {
     "name": "stdout",
     "output_type": "stream",
     "text": [
      "gAUTAMI PUTRA SATAKARNI\n"
     ]
    }
   ],
   "source": [
    "print(a.swapcase())"
   ]
  },
  {
   "cell_type": "code",
   "execution_count": 39,
   "id": "b0b366e8",
   "metadata": {},
   "outputs": [
    {
     "name": "stdout",
     "output_type": "stream",
     "text": [
      "Gautami Putra Satakarni\n"
     ]
    }
   ],
   "source": [
    "print(a.title())"
   ]
  },
  {
   "cell_type": "code",
   "execution_count": 40,
   "id": "8d730d75",
   "metadata": {},
   "outputs": [
    {
     "name": "stdout",
     "output_type": "stream",
     "text": [
      "Gautami putra satakarni\n"
     ]
    }
   ],
   "source": [
    "print(a.capitalize())"
   ]
  },
  {
   "cell_type": "code",
   "execution_count": 41,
   "id": "00255ba7",
   "metadata": {},
   "outputs": [],
   "source": [
    "#print(\"\")"
   ]
  },
  {
   "cell_type": "code",
   "execution_count": null,
   "id": "316fbe4b",
   "metadata": {},
   "outputs": [],
   "source": [
    "# a = 10\n",
    "# print(type(a))\n",
    "# isinstance(a,str)\n",
    "#print(len(a))\n",
    "#print(sorted(a))\n",
    "#print(min(a))\n",
    "#print(max(a))\n",
    "#print(a.islpha())\n",
    "#print(a.isalnum())\n",
    "#print(a.isdigit())\n",
    "#print(a.upper())\n",
    "#print(a.lower())\n",
    "#print(a.swapcase())\n",
    "#print(a.title())\n",
    "#print(a.capitalize())\n",
    "\n"
   ]
  }
 ],
 "metadata": {
  "kernelspec": {
   "display_name": "Python 3 (ipykernel)",
   "language": "python",
   "name": "python3"
  },
  "language_info": {
   "codemirror_mode": {
    "name": "ipython",
    "version": 3
   },
   "file_extension": ".py",
   "mimetype": "text/x-python",
   "name": "python",
   "nbconvert_exporter": "python",
   "pygments_lexer": "ipython3",
   "version": "3.9.13"
  }
 },
 "nbformat": 4,
 "nbformat_minor": 5
}
