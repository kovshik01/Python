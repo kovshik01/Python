{
 "cells": [
  {
   "cell_type": "code",
   "execution_count": 32,
   "id": "805682be",
   "metadata": {},
   "outputs": [
    {
     "name": "stdout",
     "output_type": "stream",
     "text": [
      "{'circle': 3}\n"
     ]
    }
   ],
   "source": [
    "\n",
    "a=(\"circle\",\"circle\",\"Square\",\"triangle\",\"Square\",\"circle\")\n",
    "d={}\n",
    "j=0\n",
    "for i in a:\n",
    "    #print(i)\n",
    "    if i==\"circle\":\n",
    "        #print(i)\n",
    "        j=j+1\n",
    "        d[i]=j\n",
    "print(d)\n",
    "\n",
    "\n"
   ]
  },
  {
   "cell_type": "code",
   "execution_count": 39,
   "id": "831ddd27",
   "metadata": {
    "scrolled": true
   },
   "outputs": [
    {
     "name": "stdout",
     "output_type": "stream",
     "text": [
      "360\n"
     ]
    }
   ],
   "source": [
    "a=[10,20,30,40,50,60,70,80]\n",
    "j=0\n",
    "for i in a:\n",
    "        j=j+i\n",
    "print(j)\n",
    "        "
   ]
  },
  {
   "cell_type": "code",
   "execution_count": null,
   "id": "ffa6b3e1",
   "metadata": {},
   "outputs": [],
   "source": []
  }
 ],
 "metadata": {
  "kernelspec": {
   "display_name": "Python 3 (ipykernel)",
   "language": "python",
   "name": "python3"
  },
  "language_info": {
   "codemirror_mode": {
    "name": "ipython",
    "version": 3
   },
   "file_extension": ".py",
   "mimetype": "text/x-python",
   "name": "python",
   "nbconvert_exporter": "python",
   "pygments_lexer": "ipython3",
   "version": "3.9.13"
  }
 },
 "nbformat": 4,
 "nbformat_minor": 5
}
