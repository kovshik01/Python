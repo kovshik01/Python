{
 "cells": [
  {
   "cell_type": "code",
   "execution_count": 1,
   "id": "10f65680",
   "metadata": {},
   "outputs": [],
   "source": [
    "#Class,Object"
   ]
  },
  {
   "cell_type": "code",
   "execution_count": 6,
   "id": "ed74b0cf",
   "metadata": {},
   "outputs": [],
   "source": [
    "class hotel():\n",
    "    def hotel_floor(self,floor):\n",
    "        if floor==1:\n",
    "            print(\"nonveg\")\n",
    "        elif floor==2:\n",
    "            print(\"veg\")\n",
    "    def hotel_dish(self,floor):\n",
    "        if floor==1:\n",
    "            print(\"chicken_soup\")\n",
    "        elif floor==2:\n",
    "            print(\"veg_soup\")\n"
   ]
  },
  {
   "cell_type": "code",
   "execution_count": 7,
   "id": "b0a79252",
   "metadata": {},
   "outputs": [
    {
     "name": "stdout",
     "output_type": "stream",
     "text": [
      "<__main__.hotel object at 0x0000019E86BCFDF0>\n"
     ]
    }
   ],
   "source": [
    "a=hotel()\n",
    "print(a)"
   ]
  },
  {
   "cell_type": "code",
   "execution_count": 8,
   "id": "bdcc5695",
   "metadata": {},
   "outputs": [
    {
     "name": "stdout",
     "output_type": "stream",
     "text": [
      "veg_soup\n"
     ]
    }
   ],
   "source": [
    "a.hotel_dish(2)"
   ]
  },
  {
   "cell_type": "code",
   "execution_count": 9,
   "id": "c8031d70",
   "metadata": {},
   "outputs": [
    {
     "name": "stdout",
     "output_type": "stream",
     "text": [
      "nonveg\n"
     ]
    }
   ],
   "source": [
    "a.hotel_floor(1)"
   ]
  },
  {
   "cell_type": "code",
   "execution_count": 10,
   "id": "b19dea4a",
   "metadata": {},
   "outputs": [
    {
     "name": "stdout",
     "output_type": "stream",
     "text": [
      "veg\n"
     ]
    }
   ],
   "source": [
    "a.hotel_floor(2)"
   ]
  },
  {
   "cell_type": "code",
   "execution_count": 11,
   "id": "cb66c5c9",
   "metadata": {},
   "outputs": [
    {
     "name": "stdout",
     "output_type": "stream",
     "text": [
      "chicken_soup\n"
     ]
    }
   ],
   "source": [
    "a.hotel_dish(1)"
   ]
  },
  {
   "cell_type": "code",
   "execution_count": 15,
   "id": "03d081b4",
   "metadata": {},
   "outputs": [],
   "source": [
    "class hotel():\n",
    "    def __init__(self,a):\n",
    "        print(\"inside constructor\")\n",
    "        self. floor = a\n",
    "        \n",
    "    def hotel_floor(self):\n",
    "        if self. floor == 1:\n",
    "            print(\"veg\")\n",
    "        elif self. floor ==2:\n",
    "            print(\"non veg\")\n",
    "    def hotel_dish(self):\n",
    "        if self. floor==1:\n",
    "            print(\"veg biriyani\")\n",
    "        elif self. floor ==2:\n",
    "            print(\"chicken biriyani\")"
   ]
  },
  {
   "cell_type": "code",
   "execution_count": 16,
   "id": "67c01a83",
   "metadata": {},
   "outputs": [
    {
     "name": "stdout",
     "output_type": "stream",
     "text": [
      "inside constructor\n",
      "veg\n",
      "veg biriyani\n"
     ]
    }
   ],
   "source": [
    "a = hotel(1)\n",
    "a.hotel_floor()\n",
    "a.hotel_dish()"
   ]
  },
  {
   "cell_type": "code",
   "execution_count": null,
   "id": "033ba855",
   "metadata": {},
   "outputs": [],
   "source": []
  }
 ],
 "metadata": {
  "kernelspec": {
   "display_name": "Python 3 (ipykernel)",
   "language": "python",
   "name": "python3"
  },
  "language_info": {
   "codemirror_mode": {
    "name": "ipython",
    "version": 3
   },
   "file_extension": ".py",
   "mimetype": "text/x-python",
   "name": "python",
   "nbconvert_exporter": "python",
   "pygments_lexer": "ipython3",
   "version": "3.9.13"
  }
 },
 "nbformat": 4,
 "nbformat_minor": 5
}
