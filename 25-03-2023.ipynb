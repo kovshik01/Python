{
 "cells": [
  {
   "cell_type": "code",
   "execution_count": 2,
   "id": "def5d161",
   "metadata": {},
   "outputs": [
    {
     "name": "stdout",
     "output_type": "stream",
     "text": [
      "5\n"
     ]
    }
   ],
   "source": [
    "class calci():\n",
    "    def add(self,a,b):\n",
    "        print(a+b)\n",
    "    def mul(self,a,b):\n",
    "        print(a*b)\n",
    "c=calci()\n",
    "c.add(2,3)"
   ]
  },
  {
   "cell_type": "code",
   "execution_count": 4,
   "id": "9288b171",
   "metadata": {},
   "outputs": [],
   "source": [
    "class calci1(calci):\n",
    "    def sub(self,a,b):\n",
    "        print(a-b)"
   ]
  },
  {
   "cell_type": "code",
   "execution_count": 9,
   "id": "4e714cd2",
   "metadata": {},
   "outputs": [
    {
     "name": "stdout",
     "output_type": "stream",
     "text": [
      "9\n",
      "1\n",
      "20\n"
     ]
    }
   ],
   "source": [
    "d=calci1()\n",
    "d.add(5,4)\n",
    "d.sub(5,4)\n",
    "d.mul(5,4)"
   ]
  },
  {
   "cell_type": "code",
   "execution_count": null,
   "id": "121e40a4",
   "metadata": {},
   "outputs": [],
   "source": [
    "#single, multilevel,multiple,hierachial"
   ]
  },
  {
   "cell_type": "code",
   "execution_count": 18,
   "id": "35828f7d",
   "metadata": {},
   "outputs": [
    {
     "name": "stdout",
     "output_type": "stream",
     "text": [
      "9\n",
      "1\n",
      "20\n",
      "1.25\n"
     ]
    }
   ],
   "source": [
    "class calc():\n",
    "    def add(self,a,b):\n",
    "        print(a+b)\n",
    "    def sub(self,a,b):\n",
    "        print(a-b)\n",
    "        \n",
    "class calc1():\n",
    "    def mul(self,a,b):\n",
    "        print(a*b)\n",
    "class calc2(calc1,calc):\n",
    "    def div(self,a,b):\n",
    "        print(a/b)\n",
    "a = calc2()\n",
    "a.add(5,4)\n",
    "a.sub(5,4)\n",
    "a.mul(5,4)\n",
    "a.div(5,4)\n",
    "\n",
    "\n",
    "            "
   ]
  },
  {
   "cell_type": "code",
   "execution_count": 16,
   "id": "678c1164",
   "metadata": {},
   "outputs": [],
   "source": [
    "class parent():\n",
    "    def __init__(self):\n",
    "        self.pname = \"parent\"\n",
    "class child(parent):\n",
    "    \n",
    "    def __init__(self):\n",
    "        super().__init__()\n",
    "        self.cname = \"child\"\n",
    "    def test(self):\n",
    "        print(\"dummy\")\n",
    "        \n",
    "class grand_child(child):\n",
    "    \n",
    "    def __init__(self):\n",
    "        super().__init__()\n",
    "        self.gcname = \"grand child\"\n",
    "a = grand_child()"
   ]
  },
  {
   "cell_type": "code",
   "execution_count": 22,
   "id": "0fddb963",
   "metadata": {},
   "outputs": [
    {
     "name": "stdout",
     "output_type": "stream",
     "text": [
      "child\n"
     ]
    }
   ],
   "source": [
    "class parent():\n",
    "    def __init__(self):\n",
    "        self.pname = \"parent\"\n",
    "class child():\n",
    "    def __init__(self):\n",
    "        self.cname = \"child\"\n",
    "    def test(self):\n",
    "        print(\"dummy\")\n",
    "        \n",
    "class grand_child(child,parent):\n",
    "    def __init(self):\n",
    "        super().__init__()\n",
    "        super(child,self).__init__()\n",
    "        self.gcname = \"grand child\"\n",
    "a = grand_child()\n",
    "print(a.cname)"
   ]
  },
  {
   "cell_type": "code",
   "execution_count": 20,
   "id": "2e45cf0c",
   "metadata": {},
   "outputs": [
    {
     "name": "stdout",
     "output_type": "stream",
     "text": [
      "9\n",
      "1\n",
      "1.25\n"
     ]
    }
   ],
   "source": [
    "class calc():\n",
    "    def add(self,a,b):\n",
    "        print(a+b)\n",
    "    def sub(self,a,b):\n",
    "        print(a-b)\n",
    "        \n",
    "class calc1(calc):\n",
    "    def mul(self,a,b):\n",
    "        print(a*b)\n",
    "class calc2(calc):\n",
    "    def div(self,a,b):\n",
    "        print(a/b)\n",
    "a = calc2()\n",
    "a.add(5,4)\n",
    "a.sub(5,4)\n",
    "a.div(5,4)"
   ]
  },
  {
   "cell_type": "code",
   "execution_count": null,
   "id": "52ea242f",
   "metadata": {},
   "outputs": [],
   "source": []
  }
 ],
 "metadata": {
  "kernelspec": {
   "display_name": "Python 3 (ipykernel)",
   "language": "python",
   "name": "python3"
  },
  "language_info": {
   "codemirror_mode": {
    "name": "ipython",
    "version": 3
   },
   "file_extension": ".py",
   "mimetype": "text/x-python",
   "name": "python",
   "nbconvert_exporter": "python",
   "pygments_lexer": "ipython3",
   "version": "3.9.13"
  }
 },
 "nbformat": 4,
 "nbformat_minor": 5
}
