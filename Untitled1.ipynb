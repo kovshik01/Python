{
 "cells": [
  {
   "cell_type": "markdown",
   "id": "5795f05c",
   "metadata": {},
   "source": [
    "# Loop"
   ]
  },
  {
   "cell_type": "code",
   "execution_count": 1,
   "id": "3edb84fa",
   "metadata": {},
   "outputs": [],
   "source": [
    "#if -> Else"
   ]
  },
  {
   "cell_type": "code",
   "execution_count": 9,
   "id": "23c8c4e3",
   "metadata": {},
   "outputs": [
    {
     "name": "stdout",
     "output_type": "stream",
     "text": [
      "yes\n"
     ]
    }
   ],
   "source": [
    "name= \"kiran\"\n",
    "mark= 50\n",
    "if name == \"kiran\" and mark == 50:\n",
    "    print (\"yes\")\n",
    "else:\n",
    "    print(\"no\")\n"
   ]
  },
  {
   "cell_type": "code",
   "execution_count": null,
   "id": "296a0b70",
   "metadata": {},
   "outputs": [],
   "source": [
    "# this concept is called If nesting\n",
    "#avoid indundation error"
   ]
  },
  {
   "cell_type": "code",
   "execution_count": 21,
   "id": "9bb1b555",
   "metadata": {},
   "outputs": [
    {
     "name": "stdout",
     "output_type": "stream",
     "text": [
      "first class\n",
      "pass\n"
     ]
    }
   ],
   "source": [
    "name= \"kiran\"\n",
    "mark= 81\n",
    "if name == \"kiran\":\n",
    "    if mark > 80:\n",
    "        print(\"first class\")\n",
    "    if mark >= 50 :\n",
    "        print(\"pass\")\n",
    "    else:\n",
    "        print(\"fail\")\n",
    "else:\n",
    "    print(\"name is not kiran\")"
   ]
  },
  {
   "cell_type": "code",
   "execution_count": 23,
   "id": "bb4bcadd",
   "metadata": {},
   "outputs": [
    {
     "name": "stdout",
     "output_type": "stream",
     "text": [
      "first class\n"
     ]
    }
   ],
   "source": [
    "name= \"kiran\"\n",
    "mark= 81\n",
    "if name == \"kiran\":\n",
    "    if mark > 80:\n",
    "        print(\"first class\")\n",
    "    elif mark >= 50 and mark<=79:\n",
    "        print(\"pass\")\n",
    "    else:\n",
    "        print(\"fail\")\n",
    "else:\n",
    "    print(\"name is not kiran\")"
   ]
  },
  {
   "cell_type": "code",
   "execution_count": 24,
   "id": "4c430919",
   "metadata": {},
   "outputs": [],
   "source": [
    "#While loop"
   ]
  },
  {
   "cell_type": "code",
   "execution_count": 2,
   "id": "da0cb232",
   "metadata": {},
   "outputs": [
    {
     "name": "stdout",
     "output_type": "stream",
     "text": [
      "1\n",
      "2\n",
      "3\n",
      "4\n"
     ]
    }
   ],
   "source": [
    "a=1\n",
    "while a<5:\n",
    "    print(a)\n",
    "    a=a+1"
   ]
  },
  {
   "cell_type": "code",
   "execution_count": 4,
   "id": "afa174a4",
   "metadata": {},
   "outputs": [],
   "source": [
    "police = \"yes\"\n",
    "police = \"no\"\n",
    "signal = \"red\"\n",
    "signal = \"orange\"\n",
    "signal = \"green\"\n",
    "\n",
    "if police == \"yes\":\n",
    "    if signal == \"red\":\n",
    "        print(\"stop\")\n",
    "if police == \"no\":\n",
    "    if signal == \"red\":\n",
    "        print(\"go\")\n",
    "    \n",
    "            \n",
    "    "
   ]
  },
  {
   "cell_type": "code",
   "execution_count": 24,
   "id": "4000d4fb",
   "metadata": {},
   "outputs": [
    {
     "name": "stdout",
     "output_type": "stream",
     "text": [
      "stop\n"
     ]
    }
   ],
   "source": [
    "police = \"yes\"\n",
    "#police = \"no\"\n",
    "signal = \"red\"\n",
    "#signal = \"orange\"\n",
    "#signal = \"green\"\n",
    "\n",
    "if police == \"yes\":\n",
    "    if signal == \"red\":\n",
    "        print(\"stop\")\n",
    "if police == \"no\":\n",
    "    if signal == \"red\":\n",
    "        print(\"go\")"
   ]
  },
  {
   "cell_type": "code",
   "execution_count": null,
   "id": "2a1f1804",
   "metadata": {},
   "outputs": [],
   "source": []
  },
  {
   "cell_type": "code",
   "execution_count": null,
   "id": "63cbe136",
   "metadata": {},
   "outputs": [],
   "source": []
  }
 ],
 "metadata": {
  "kernelspec": {
   "display_name": "Python 3 (ipykernel)",
   "language": "python",
   "name": "python3"
  },
  "language_info": {
   "codemirror_mode": {
    "name": "ipython",
    "version": 3
   },
   "file_extension": ".py",
   "mimetype": "text/x-python",
   "name": "python",
   "nbconvert_exporter": "python",
   "pygments_lexer": "ipython3",
   "version": "3.9.13"
  }
 },
 "nbformat": 4,
 "nbformat_minor": 5
}
