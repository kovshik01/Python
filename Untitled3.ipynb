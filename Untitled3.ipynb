{
 "cells": [
  {
   "cell_type": "code",
   "execution_count": 4,
   "id": "87e177ab",
   "metadata": {},
   "outputs": [],
   "source": [
    "def dec(fnc):\n",
    "    print(\"inside dec\")\n",
    "    def inner(a,b):\n",
    "        print(\"inside inner fn\")\n",
    "        if a<b :\n",
    "            a,b = b,a\n",
    "        return fnc(a,b)\n",
    "    return inner"
   ]
  },
  {
   "cell_type": "code",
   "execution_count": 5,
   "id": "85697419",
   "metadata": {},
   "outputs": [
    {
     "name": "stdout",
     "output_type": "stream",
     "text": [
      "inside dec\n"
     ]
    }
   ],
   "source": [
    "@dec\n",
    "def test(a,b):\n",
    "    print(\"inside real fnc\")\n",
    "    print(a/b)"
   ]
  },
  {
   "cell_type": "code",
   "execution_count": 6,
   "id": "1ec2acf4",
   "metadata": {},
   "outputs": [
    {
     "name": "stdout",
     "output_type": "stream",
     "text": [
      "inside inner fn\n",
      "inside real fnc\n",
      "2.0\n"
     ]
    }
   ],
   "source": [
    "test(2,4)"
   ]
  },
  {
   "cell_type": "code",
   "execution_count": 7,
   "id": "f61d85c4",
   "metadata": {},
   "outputs": [],
   "source": [
    "#iterator\n",
    "def test(a):\n",
    "    l = []\n",
    "    for i in range(a):\n",
    "        l.append(i)\n",
    "    return l"
   ]
  },
  {
   "cell_type": "code",
   "execution_count": 8,
   "id": "b6119277",
   "metadata": {},
   "outputs": [
    {
     "name": "stdout",
     "output_type": "stream",
     "text": [
      "[0, 1, 2, 3, 4]\n"
     ]
    }
   ],
   "source": [
    "b = test(5)\n",
    "print(b)"
   ]
  },
  {
   "cell_type": "code",
   "execution_count": 9,
   "id": "4f28f3bc",
   "metadata": {},
   "outputs": [],
   "source": [
    "##generator\n",
    "def test(a):\n",
    "    for i in range(a):\n",
    "        yield i"
   ]
  },
  {
   "cell_type": "code",
   "execution_count": 10,
   "id": "e5403c77",
   "metadata": {},
   "outputs": [],
   "source": [
    "b = test(5)"
   ]
  },
  {
   "cell_type": "code",
   "execution_count": 13,
   "id": "cc89eb7e",
   "metadata": {},
   "outputs": [
    {
     "name": "stdout",
     "output_type": "stream",
     "text": [
      "2\n"
     ]
    }
   ],
   "source": [
    "print(next(b))"
   ]
  },
  {
   "cell_type": "code",
   "execution_count": 14,
   "id": "6973a6e6",
   "metadata": {},
   "outputs": [
    {
     "name": "stdout",
     "output_type": "stream",
     "text": [
      "0\n",
      "0\n",
      "1\n",
      "1\n",
      "22\n",
      "\n",
      "33\n",
      "\n",
      "4\n",
      "4\n",
      "2.547549247741699\n"
     ]
    }
   ],
   "source": [
    "#threading\n",
    "import time\n",
    "import threading\n",
    "\n",
    "def test():\n",
    "    for i in range(5):\n",
    "        print(i)\n",
    "        time.sleep(0.5)\n",
    "before = time.time()\n",
    "t1 = threading.Thread(target = test)\n",
    "t2 = threading.Thread(target = test)\n",
    "t1.start()\n",
    "t2.start()\n",
    "t1.join()\n",
    "t2.join()\n",
    "after = time.time()\n",
    "print(after-before)"
   ]
  },
  {
   "cell_type": "code",
   "execution_count": 15,
   "id": "7d51255f",
   "metadata": {},
   "outputs": [],
   "source": [
    "a=[i for i in range(10)if i % 2 == 0]"
   ]
  },
  {
   "cell_type": "code",
   "execution_count": 16,
   "id": "b1568b17",
   "metadata": {},
   "outputs": [
    {
     "name": "stdout",
     "output_type": "stream",
     "text": [
      "[0, 2, 4, 6, 8]\n"
     ]
    }
   ],
   "source": [
    "print(a)"
   ]
  },
  {
   "cell_type": "code",
   "execution_count": 17,
   "id": "d7607dcf",
   "metadata": {},
   "outputs": [
    {
     "name": "stdout",
     "output_type": "stream",
     "text": [
      "[0, 2, 4, 6, 8]\n"
     ]
    }
   ],
   "source": [
    "#List comprehension\n",
    "l= []\n",
    "for i in range (10):\n",
    "    if i % 2 == 0:\n",
    "        l.append(i)\n",
    "print(l)"
   ]
  },
  {
   "cell_type": "code",
   "execution_count": 18,
   "id": "2334fe97",
   "metadata": {},
   "outputs": [
    {
     "name": "stdout",
     "output_type": "stream",
     "text": [
      "{0: 0, 1: 1, 2: 4, 3: 9, 4: 16}\n"
     ]
    }
   ],
   "source": [
    "#dictionary comprehension\n",
    "a = {i:i**2 for i in range(5)}\n",
    "print(a)"
   ]
  },
  {
   "cell_type": "code",
   "execution_count": null,
   "id": "e7699ebd",
   "metadata": {},
   "outputs": [],
   "source": [
    "\n"
   ]
  }
 ],
 "metadata": {
  "kernelspec": {
   "display_name": "Python 3 (ipykernel)",
   "language": "python",
   "name": "python3"
  },
  "language_info": {
   "codemirror_mode": {
    "name": "ipython",
    "version": 3
   },
   "file_extension": ".py",
   "mimetype": "text/x-python",
   "name": "python",
   "nbconvert_exporter": "python",
   "pygments_lexer": "ipython3",
   "version": "3.9.13"
  }
 },
 "nbformat": 4,
 "nbformat_minor": 5
}
