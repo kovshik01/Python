{
 "cells": [
  {
   "cell_type": "markdown",
   "id": "fb1fb940",
   "metadata": {},
   "source": [
    "# For loop"
   ]
  },
  {
   "cell_type": "code",
   "execution_count": 1,
   "id": "8a4ae932",
   "metadata": {},
   "outputs": [
    {
     "data": {
      "text/plain": [
       "range(0, 500)"
      ]
     },
     "execution_count": 1,
     "metadata": {},
     "output_type": "execute_result"
    }
   ],
   "source": [
    "range(500)"
   ]
  },
  {
   "cell_type": "code",
   "execution_count": 2,
   "id": "1d9ac9a5",
   "metadata": {},
   "outputs": [
    {
     "name": "stdout",
     "output_type": "stream",
     "text": [
      "[0, 1, 2, 3, 4, 5, 6, 7, 8, 9, 10, 11, 12, 13, 14, 15, 16, 17, 18, 19, 20, 21, 22, 23, 24, 25, 26, 27, 28, 29, 30, 31, 32, 33, 34, 35, 36, 37, 38, 39, 40, 41, 42, 43, 44, 45, 46, 47, 48, 49]\n"
     ]
    }
   ],
   "source": [
    "print(list(range(50)))"
   ]
  },
  {
   "cell_type": "code",
   "execution_count": 3,
   "id": "1aa1a962",
   "metadata": {
    "scrolled": true
   },
   "outputs": [
    {
     "name": "stdout",
     "output_type": "stream",
     "text": [
      "[10, 12, 14, 16, 18, 20, 22, 24, 26, 28, 30, 32, 34, 36, 38, 40, 42, 44, 46, 48]\n"
     ]
    }
   ],
   "source": [
    "print(list(range(10,50,2)))"
   ]
  },
  {
   "cell_type": "code",
   "execution_count": 4,
   "id": "30c823d7",
   "metadata": {},
   "outputs": [
    {
     "name": "stdout",
     "output_type": "stream",
     "text": [
      "0\n",
      "1\n",
      "2\n",
      "3\n",
      "4\n",
      "5\n",
      "6\n",
      "7\n",
      "8\n",
      "9\n"
     ]
    }
   ],
   "source": [
    "for i in range(10):\n",
    "                   print(i)"
   ]
  },
  {
   "cell_type": "code",
   "execution_count": 5,
   "id": "84ada1b6",
   "metadata": {},
   "outputs": [],
   "source": [
    "a=[\"kovshik\", \"anand\"]"
   ]
  },
  {
   "cell_type": "code",
   "execution_count": 6,
   "id": "414244c3",
   "metadata": {},
   "outputs": [
    {
     "name": "stdout",
     "output_type": "stream",
     "text": [
      "kovshik\n",
      "anand\n"
     ]
    }
   ],
   "source": [
    "for i in a:\n",
    "          print(i)"
   ]
  },
  {
   "cell_type": "code",
   "execution_count": 43,
   "id": "38139d85",
   "metadata": {},
   "outputs": [
    {
     "name": "stdout",
     "output_type": "stream",
     "text": [
      "[0, 1, 2, 3, 4, 5, 6, 7, 8, 9]\n"
     ]
    }
   ],
   "source": [
    "#interview question- using loops create a list and pull the odd and even numbers out from the list\n",
    "print(list(range(10)))"
   ]
  },
  {
   "cell_type": "code",
   "execution_count": 8,
   "id": "503a9a79",
   "metadata": {},
   "outputs": [
    {
     "name": "stdout",
     "output_type": "stream",
     "text": [
      "[0, 2, 4, 6, 8]\n"
     ]
    }
   ],
   "source": [
    "print(list(range(0,10,2)))"
   ]
  },
  {
   "cell_type": "code",
   "execution_count": 9,
   "id": "5b80dd5e",
   "metadata": {},
   "outputs": [
    {
     "name": "stdout",
     "output_type": "stream",
     "text": [
      "[0, 1, 2, 3, 4, 5, 6, 7, 8, 9]\n"
     ]
    }
   ],
   "source": [
    "print(list(range(0,10,1)))"
   ]
  },
  {
   "cell_type": "code",
   "execution_count": 42,
   "id": "5585001c",
   "metadata": {},
   "outputs": [
    {
     "name": "stdout",
     "output_type": "stream",
     "text": [
      "[0, 2, 4, 6, 8]\n"
     ]
    }
   ],
   "source": [
    "l=[]\n",
    "for i in range(10):\n",
    "     #print(i)\n",
    "    if i % 2==0:\n",
    "        l.append(i)\n",
    "print(l)"
   ]
  },
  {
   "cell_type": "code",
   "execution_count": 44,
   "id": "f03c172a",
   "metadata": {},
   "outputs": [
    {
     "name": "stdout",
     "output_type": "stream",
     "text": [
      "[1, 3, 5, 7, 9]\n"
     ]
    }
   ],
   "source": [
    "l=[]\n",
    "for i in range(10):\n",
    "     #print(i)\n",
    "    if i % 2==1:\n",
    "        l.append(i)\n",
    "print(l)"
   ]
  },
  {
   "cell_type": "code",
   "execution_count": 47,
   "id": "8c3a5857",
   "metadata": {},
   "outputs": [],
   "source": [
    "a={\"name\":\"kiran\",\"age\":\"20\"}"
   ]
  },
  {
   "cell_type": "code",
   "execution_count": 48,
   "id": "19ac858d",
   "metadata": {},
   "outputs": [
    {
     "name": "stdout",
     "output_type": "stream",
     "text": [
      "name\n",
      "age\n"
     ]
    }
   ],
   "source": [
    "for i in a.keys():\n",
    "        print(i)"
   ]
  },
  {
   "cell_type": "code",
   "execution_count": 49,
   "id": "cac9b3a0",
   "metadata": {},
   "outputs": [
    {
     "name": "stdout",
     "output_type": "stream",
     "text": [
      "kiran\n",
      "20\n"
     ]
    }
   ],
   "source": [
    "for i in a.values():\n",
    "        print(i)"
   ]
  },
  {
   "cell_type": "code",
   "execution_count": 52,
   "id": "50dca5e7",
   "metadata": {},
   "outputs": [
    {
     "name": "stdout",
     "output_type": "stream",
     "text": [
      "name\n",
      "kiran\n",
      "age\n",
      "20\n"
     ]
    }
   ],
   "source": [
    "for k,v in a.items():\n",
    "            print(k)\n",
    "            print(v)"
   ]
  },
  {
   "cell_type": "code",
   "execution_count": 64,
   "id": "b0c9b7f6",
   "metadata": {},
   "outputs": [],
   "source": [
    "a={'dinesh@gmail.com':'dinesh', 'kumar@gmail.com': 'kumar'}"
   ]
  },
  {
   "cell_type": "code",
   "execution_count": 65,
   "id": "01dd3b67",
   "metadata": {},
   "outputs": [
    {
     "name": "stdout",
     "output_type": "stream",
     "text": [
      "dict_keys(['dinesh@gmail.com', 'kumar@gmail.com'])\n"
     ]
    }
   ],
   "source": [
    "print(a.keys())"
   ]
  },
  {
   "cell_type": "code",
   "execution_count": 69,
   "id": "b5638f07",
   "metadata": {},
   "outputs": [
    {
     "name": "stdout",
     "output_type": "stream",
     "text": [
      "dinesh\n"
     ]
    }
   ],
   "source": [
    "print(a[\"dinesh@gmail.com\"])"
   ]
  },
  {
   "cell_type": "code",
   "execution_count": 70,
   "id": "4b042cde",
   "metadata": {},
   "outputs": [
    {
     "name": "stdout",
     "output_type": "stream",
     "text": [
      "kumar\n"
     ]
    }
   ],
   "source": [
    "print(a[\"kumar@gmail.com\"])"
   ]
  },
  {
   "cell_type": "code",
   "execution_count": 159,
   "id": "a8de20f7",
   "metadata": {},
   "outputs": [],
   "source": [
    "a=[\"dinesh@gmail.com\",\"kumar@gmail.com\",\"kiran@yahoo.com\"]"
   ]
  },
  {
   "cell_type": "code",
   "execution_count": 160,
   "id": "f1c722e4",
   "metadata": {},
   "outputs": [
    {
     "name": "stdout",
     "output_type": "stream",
     "text": [
      "dinesh\n",
      "kumar\n",
      "kiran\n"
     ]
    }
   ],
   "source": [
    "for i in a:\n",
    "    print(i.split(\"@\")[0])\n",
    "    "
   ]
  },
  {
   "cell_type": "code",
   "execution_count": 182,
   "id": "c5dbac16",
   "metadata": {},
   "outputs": [
    {
     "name": "stdout",
     "output_type": "stream",
     "text": [
      "gmail\n",
      "gmail\n",
      "yahoo\n"
     ]
    }
   ],
   "source": [
    "\n",
    "for i in a:\n",
    "    b=(i.split(\"@\")[1])\n",
    "    #print(b)\n",
    "    c=b.split(\".\")[0]\n",
    "    print(c)\n"
   ]
  },
  {
   "cell_type": "code",
   "execution_count": 162,
   "id": "805b0528",
   "metadata": {},
   "outputs": [],
   "source": [
    "c=b.split(\".\")[0]"
   ]
  },
  {
   "cell_type": "code",
   "execution_count": 152,
   "id": "ff866e16",
   "metadata": {},
   "outputs": [
    {
     "name": "stdout",
     "output_type": "stream",
     "text": [
      "gmail\n"
     ]
    }
   ],
   "source": [
    "print(c)"
   ]
  },
  {
   "cell_type": "code",
   "execution_count": 173,
   "id": "0a556253",
   "metadata": {},
   "outputs": [
    {
     "name": "stdout",
     "output_type": "stream",
     "text": [
      "['dinesh@gmail.com', 'kumar@gmail.com', 'kiran@yahoo.com']\n"
     ]
    }
   ],
   "source": [
    "print(list(a))"
   ]
  },
  {
   "cell_type": "code",
   "execution_count": null,
   "id": "fef12bdd",
   "metadata": {},
   "outputs": [],
   "source": []
  }
 ],
 "metadata": {
  "kernelspec": {
   "display_name": "Python 3 (ipykernel)",
   "language": "python",
   "name": "python3"
  },
  "language_info": {
   "codemirror_mode": {
    "name": "ipython",
    "version": 3
   },
   "file_extension": ".py",
   "mimetype": "text/x-python",
   "name": "python",
   "nbconvert_exporter": "python",
   "pygments_lexer": "ipython3",
   "version": "3.9.13"
  }
 },
 "nbformat": 4,
 "nbformat_minor": 5
}
