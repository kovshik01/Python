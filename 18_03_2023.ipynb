{
 "cells": [
  {
   "cell_type": "code",
   "execution_count": 1,
   "id": "734fcf1d",
   "metadata": {},
   "outputs": [],
   "source": [
    "class car():\n",
    "    def engine(self):\n",
    "        print(\"car engine\")\n",
    "    def clutch(self):\n",
    "        print(\"car clutch\")\n",
    "     "
   ]
  },
  {
   "cell_type": "code",
   "execution_count": 7,
   "id": "9b6ac390",
   "metadata": {},
   "outputs": [
    {
     "name": "stdout",
     "output_type": "stream",
     "text": [
      "<__main__.car object at 0x000001BBAAA35C10>\n"
     ]
    }
   ],
   "source": [
    "a=car()\n",
    "print(a)"
   ]
  },
  {
   "cell_type": "code",
   "execution_count": 4,
   "id": "7fe83c5b",
   "metadata": {},
   "outputs": [],
   "source": [
    "class truck():\n",
    "    def engine(self):\n",
    "        print(\"truck engine\")\n",
    "    def clutch(self):\n",
    "        print(\"truck clutch\")"
   ]
  },
  {
   "cell_type": "code",
   "execution_count": 5,
   "id": "b14921b0",
   "metadata": {},
   "outputs": [],
   "source": [
    "b = truck()"
   ]
  },
  {
   "cell_type": "code",
   "execution_count": 8,
   "id": "1e5114e0",
   "metadata": {},
   "outputs": [
    {
     "name": "stdout",
     "output_type": "stream",
     "text": [
      "car engine\n"
     ]
    }
   ],
   "source": [
    "a.engine()"
   ]
  },
  {
   "cell_type": "code",
   "execution_count": 9,
   "id": "5a4f8498",
   "metadata": {},
   "outputs": [
    {
     "name": "stdout",
     "output_type": "stream",
     "text": [
      "truck engine\n"
     ]
    }
   ],
   "source": [
    "b.engine()"
   ]
  }
 ],
 "metadata": {
  "kernelspec": {
   "display_name": "Python 3 (ipykernel)",
   "language": "python",
   "name": "python3"
  },
  "language_info": {
   "codemirror_mode": {
    "name": "ipython",
    "version": 3
   },
   "file_extension": ".py",
   "mimetype": "text/x-python",
   "name": "python",
   "nbconvert_exporter": "python",
   "pygments_lexer": "ipython3",
   "version": "3.9.13"
  }
 },
 "nbformat": 4,
 "nbformat_minor": 5
}
