{
 "cells": [
  {
   "cell_type": "code",
   "execution_count": 1,
   "id": "19bd16f3",
   "metadata": {},
   "outputs": [
    {
     "name": "stdout",
     "output_type": "stream",
     "text": [
      "enter yes or no\n",
      "yes\n",
      "enter red or green or orange\n",
      "red\n",
      "output is stop\n"
     ]
    }
   ],
   "source": [
    "police=input(\"enter yes or no\\n\")\n",
    "signal=input(\"enter red or green or orange\\n\")\n",
    "if(police==\"yes\"):\n",
    "    if(signal==\"red\"):\n",
    "        print(\"output is stop\")\n",
    "    elif(signal==\"orange\"):\n",
    "        print(\"output is slow\")\n",
    "elif(police==\"no\"):\n",
    "    if(signal==\"orange\"):\n",
    "        print(\"output is go\")\n",
    "    elif(signal==\"red\"):\n",
    "        print(\"output is go\")\n",
    "else:\n",
    "    print(\"go\")"
   ]
  },
  {
   "cell_type": "code",
   "execution_count": null,
   "id": "0f813b9d",
   "metadata": {},
   "outputs": [],
   "source": [
    "police=\"yes\"\n",
    "signal=\"red\"\n",
    "if(police==\"yes\"):\n",
    "    if(signal==\"red\"):\n",
    "        print(\"output is stop\")\n",
    "    elif(signal==)\n"
   ]
  },
  {
   "cell_type": "code",
   "execution_count": 1,
   "id": "a5980e33",
   "metadata": {},
   "outputs": [
    {
     "name": "stdout",
     "output_type": "stream",
     "text": [
      "enter yes or no\n",
      "hello\n",
      "enter red or green or orange\n",
      "hie\n",
      "go\n"
     ]
    }
   ],
   "source": [
    "police=input(\"enter yes or no\\n\")\n",
    "signal=input(\"enter red or green or orange\\n\")\n",
    "if(police==\"yes\"):\n",
    "    if(signal==\"red\"):\n",
    "        print(\"output is stop\")\n",
    "    elif(signal==\"orange\"):\n",
    "        print(\"output is slow\")\n",
    "elif(police==\"no\"):\n",
    "    if(signal==\"orange\"):\n",
    "        print(\"output is go\")\n",
    "    elif(signal==\"red\"):\n",
    "        print(\"output is go\")\n",
    "else:\n",
    "    print(\"go\")"
   ]
  },
  {
   "cell_type": "code",
   "execution_count": null,
   "id": "f69b20ce",
   "metadata": {},
   "outputs": [],
   "source": [
    "police=input(\"enter yes or no\\n\")\n",
    "signal=input(\"enter red or green or orange\\n\")\n",
    "print(police)\n",
    "print(signal)"
   ]
  },
  {
   "cell_type": "code",
   "execution_count": 1,
   "id": "aded1512",
   "metadata": {},
   "outputs": [
    {
     "name": "stdout",
     "output_type": "stream",
     "text": [
      "[0, 2, 4, 6, 8]\n"
     ]
    }
   ],
   "source": [
    "l=[]\n",
    "for i in range(10):\n",
    "    if i % 2==0:\n",
    "        l.append(i)\n",
    "print(l)"
   ]
  },
  {
   "cell_type": "code",
   "execution_count": 2,
   "id": "311724e9",
   "metadata": {},
   "outputs": [],
   "source": [
    "a=[\"dinesh@gmail.com\",\"kumar@gmail.com\",\"kiran@yahoo.com\"]\n"
   ]
  },
  {
   "cell_type": "code",
   "execution_count": 11,
   "id": "f1c79407",
   "metadata": {},
   "outputs": [
    {
     "name": "stdout",
     "output_type": "stream",
     "text": [
      "['dinesh', 'kumar', 'kiran']\n",
      "['gmail', 'gmail', 'yahoo']\n"
     ]
    }
   ],
   "source": [
    "l1=[]\n",
    "l2=[]\n",
    "for i in a:\n",
    "    name = i.split('@')[0]\n",
    "    email = i.split('@')[1]\n",
    "    email = email.split('.')[0]\n",
    "    l1.append(name)\n",
    "    l2.append(email)\n",
    "print(l1)\n",
    "print(l2)"
   ]
  },
  {
   "cell_type": "code",
   "execution_count": 13,
   "id": "7a080949",
   "metadata": {},
   "outputs": [
    {
     "name": "stdout",
     "output_type": "stream",
     "text": [
      "['dinesh', 'kumar', 'kiran']\n",
      "{'yahoo', 'gmail'}\n"
     ]
    }
   ],
   "source": [
    "b=[\"dinesh@gmail.com\",\"kumar@gmail.com\",\"kiran@yahoo.com\"]\n",
    "l1=[]\n",
    "l2=set()\n",
    "for i in b:\n",
    "    name = i.split('@')[0]\n",
    "    email = i.split('@')[1]\n",
    "    email = email.split('.')[0]\n",
    "    l1.append(name)\n",
    "    l2.add(email)\n",
    "print(l1)\n",
    "print(l2)"
   ]
  },
  {
   "cell_type": "code",
   "execution_count": 25,
   "id": "dc072889",
   "metadata": {},
   "outputs": [
    {
     "name": "stdout",
     "output_type": "stream",
     "text": [
      "gmail.com\n",
      "gmail.com\n",
      "yahoo.com\n"
     ]
    }
   ],
   "source": [
    "c=[\"dinesh@gmail.com\",\"kumar@gmail.com\",\"kiran@yahoo.com\"]\n",
    "for i in c:\n",
    "      print (i.split('@')[1])"
   ]
  },
  {
   "cell_type": "code",
   "execution_count": 26,
   "id": "5e6bac08",
   "metadata": {},
   "outputs": [],
   "source": [
    "a=['apple','mango','apple','mango','orange']"
   ]
  },
  {
   "cell_type": "code",
   "execution_count": 33,
   "id": "a8f4a315",
   "metadata": {},
   "outputs": [
    {
     "name": "stdout",
     "output_type": "stream",
     "text": [
      "orange\n"
     ]
    }
   ],
   "source": [
    "a_list = []\n",
    "a=(\"apple mango apple mango orange\")\n",
    "for fruit in a. split():\n",
    "     a_list.append(fruit)\n",
    "print(fruit)\n"
   ]
  },
  {
   "cell_type": "code",
   "execution_count": null,
   "id": "c7d35901",
   "metadata": {},
   "outputs": [],
   "source": [
    "#palindrome\n",
    "#fibonocci series"
   ]
  },
  {
   "cell_type": "code",
   "execution_count": 6,
   "id": "e370d7cd",
   "metadata": {},
   "outputs": [
    {
     "name": "stdout",
     "output_type": "stream",
     "text": [
      "17\n",
      "8\n",
      "20\n",
      "5.0\n"
     ]
    }
   ],
   "source": [
    "class calculator():\n",
    "    def add(self,a,b):\n",
    "        print(a+b)\n",
    "    def sub(self,a,b):\n",
    "        print(a-b)\n",
    "    def mul(self,a,b):\n",
    "        print(a*b)\n",
    "    def div(self,a,b):\n",
    "        print(a/b)\n",
    "output=calculator()\n",
    "output.add(15,2)\n",
    "output.sub(10,2)\n",
    "output.mul(10,2)\n",
    "output.div(10,2)"
   ]
  },
  {
   "cell_type": "code",
   "execution_count": null,
   "id": "98c37a8c",
   "metadata": {},
   "outputs": [],
   "source": []
  }
 ],
 "metadata": {
  "kernelspec": {
   "display_name": "Python 3 (ipykernel)",
   "language": "python",
   "name": "python3"
  },
  "language_info": {
   "codemirror_mode": {
    "name": "ipython",
    "version": 3
   },
   "file_extension": ".py",
   "mimetype": "text/x-python",
   "name": "python",
   "nbconvert_exporter": "python",
   "pygments_lexer": "ipython3",
   "version": "3.9.13"
  }
 },
 "nbformat": 4,
 "nbformat_minor": 5
}
