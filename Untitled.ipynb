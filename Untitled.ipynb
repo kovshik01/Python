{
 "cells": [
  {
   "cell_type": "code",
   "execution_count": 1,
   "id": "e06c2010",
   "metadata": {},
   "outputs": [
    {
     "name": "stdout",
     "output_type": "stream",
     "text": [
      "hello\n"
     ]
    }
   ],
   "source": [
    "print(\"hello\")"
   ]
  },
  {
   "cell_type": "code",
   "execution_count": 4,
   "id": "013ed4bb",
   "metadata": {},
   "outputs": [
    {
     "ename": "NameError",
     "evalue": "name 'p' is not defined",
     "output_type": "error",
     "traceback": [
      "\u001b[1;31m---------------------------------------------------------------------------\u001b[0m",
      "\u001b[1;31mNameError\u001b[0m                                 Traceback (most recent call last)",
      "\u001b[1;32m~\\AppData\\Local\\Temp\\ipykernel_19680\\626125819.py\u001b[0m in \u001b[0;36m<module>\u001b[1;34m\u001b[0m\n\u001b[1;32m----> 1\u001b[1;33m \u001b[0mp\u001b[0m\u001b[1;33m\u001b[0m\u001b[1;33m\u001b[0m\u001b[0m\n\u001b[0m",
      "\u001b[1;31mNameError\u001b[0m: name 'p' is not defined"
     ]
    }
   ],
   "source": []
  },
  {
   "cell_type": "code",
   "execution_count": 5,
   "id": "faee7715",
   "metadata": {},
   "outputs": [
    {
     "name": "stdout",
     "output_type": "stream",
     "text": [
      "hi\n",
      "hello\n",
      "welcome\n"
     ]
    }
   ],
   "source": [
    "print(\"hi\")\n",
    "print(\"hello\")\n",
    "print(\"welcome\")"
   ]
  },
  {
   "cell_type": "code",
   "execution_count": 6,
   "id": "747a995a",
   "metadata": {},
   "outputs": [
    {
     "data": {
      "text/plain": [
       "'\\nauthor:kovshik\\ndate:2023\\nplace:chennai\\n'"
      ]
     },
     "execution_count": 6,
     "metadata": {},
     "output_type": "execute_result"
    }
   ],
   "source": [
    "\"\"\"\n",
    "author:kovshik\n",
    "date:2023\n",
    "place:chennai\n",
    "\"\"\""
   ]
  },
  {
   "cell_type": "code",
   "execution_count": 7,
   "id": "479963d5",
   "metadata": {},
   "outputs": [
    {
     "name": "stdout",
     "output_type": "stream",
     "text": [
      "hi\n",
      "hello\thello\n"
     ]
    }
   ],
   "source": [
    "print(\"hi\\nhello\\thello\")"
   ]
  },
  {
   "cell_type": "code",
   "execution_count": 8,
   "id": "e1f76ccd",
   "metadata": {},
   "outputs": [],
   "source": [
    "#print(\"\\n means next line escape character\")"
   ]
  },
  {
   "cell_type": "code",
   "execution_count": 9,
   "id": "a9a59bad",
   "metadata": {},
   "outputs": [],
   "source": [
    "#print(\"\\t means tab\")"
   ]
  },
  {
   "cell_type": "code",
   "execution_count": 10,
   "id": "c4ece97c",
   "metadata": {},
   "outputs": [
    {
     "name": "stdout",
     "output_type": "stream",
     "text": [
      "welcome to class\n"
     ]
    }
   ],
   "source": [
    "print(\"welcome to class\")"
   ]
  },
  {
   "cell_type": "code",
   "execution_count": 11,
   "id": "975dbe31",
   "metadata": {},
   "outputs": [],
   "source": [
    "a = \"welcome to class\""
   ]
  },
  {
   "cell_type": "code",
   "execution_count": 12,
   "id": "b01ddedb",
   "metadata": {},
   "outputs": [
    {
     "name": "stdout",
     "output_type": "stream",
     "text": [
      "a\n"
     ]
    }
   ],
   "source": [
    "print(\"a\")"
   ]
  },
  {
   "cell_type": "code",
   "execution_count": 13,
   "id": "61bf47d7",
   "metadata": {},
   "outputs": [],
   "source": [
    "a = \"welcome to todays class\""
   ]
  },
  {
   "cell_type": "code",
   "execution_count": 14,
   "id": "824004ae",
   "metadata": {},
   "outputs": [
    {
     "ename": "SyntaxError",
     "evalue": "Missing parentheses in call to 'print'. Did you mean print(a)? (2947294964.py, line 1)",
     "output_type": "error",
     "traceback": [
      "\u001b[1;36m  File \u001b[1;32m\"C:\\Users\\kovhik anand t\\AppData\\Local\\Temp\\ipykernel_19680\\2947294964.py\"\u001b[1;36m, line \u001b[1;32m1\u001b[0m\n\u001b[1;33m    print a\u001b[0m\n\u001b[1;37m          ^\u001b[0m\n\u001b[1;31mSyntaxError\u001b[0m\u001b[1;31m:\u001b[0m Missing parentheses in call to 'print'. Did you mean print(a)?\n"
     ]
    }
   ],
   "source": [
    "print a"
   ]
  },
  {
   "cell_type": "code",
   "execution_count": 15,
   "id": "4b5235d6",
   "metadata": {},
   "outputs": [
    {
     "name": "stdout",
     "output_type": "stream",
     "text": [
      "a\n"
     ]
    }
   ],
   "source": [
    "print(\"a\")"
   ]
  },
  {
   "cell_type": "code",
   "execution_count": 16,
   "id": "d25f592f",
   "metadata": {},
   "outputs": [
    {
     "name": "stdout",
     "output_type": "stream",
     "text": [
      "welcome to todays class\n"
     ]
    }
   ],
   "source": [
    "print(a)"
   ]
  },
  {
   "cell_type": "code",
   "execution_count": 17,
   "id": "be5c0470",
   "metadata": {},
   "outputs": [],
   "source": [
    "#variable name should not start with number\n",
    "#variable name should not have any special character\n",
    "# _ is not a special character"
   ]
  },
  {
   "cell_type": "code",
   "execution_count": 18,
   "id": "0afc477b",
   "metadata": {},
   "outputs": [],
   "source": [
    "# data that python supports are called datatypes, there are five data types."
   ]
  },
  {
   "cell_type": "code",
   "execution_count": 19,
   "id": "35cae579",
   "metadata": {},
   "outputs": [],
   "source": [
    "#string\n",
    "a = \"test\""
   ]
  },
  {
   "cell_type": "code",
   "execution_count": 20,
   "id": "492a81a5",
   "metadata": {},
   "outputs": [
    {
     "name": "stdout",
     "output_type": "stream",
     "text": [
      "<class 'str'>\n"
     ]
    }
   ],
   "source": [
    "print(type(a))"
   ]
  },
  {
   "cell_type": "code",
   "execution_count": 21,
   "id": "40d183f5",
   "metadata": {},
   "outputs": [
    {
     "name": "stdout",
     "output_type": "stream",
     "text": [
      "True\n"
     ]
    }
   ],
   "source": [
    "print(isinstance(a,str))"
   ]
  },
  {
   "cell_type": "code",
   "execution_count": 22,
   "id": "1f6ad515",
   "metadata": {},
   "outputs": [
    {
     "ename": "NameError",
     "evalue": "name 'b' is not defined",
     "output_type": "error",
     "traceback": [
      "\u001b[1;31m---------------------------------------------------------------------------\u001b[0m",
      "\u001b[1;31mNameError\u001b[0m                                 Traceback (most recent call last)",
      "\u001b[1;32m~\\AppData\\Local\\Temp\\ipykernel_19680\\228568054.py\u001b[0m in \u001b[0;36m<module>\u001b[1;34m\u001b[0m\n\u001b[1;32m----> 1\u001b[1;33m \u001b[0mprint\u001b[0m\u001b[1;33m(\u001b[0m\u001b[0mtype\u001b[0m\u001b[1;33m(\u001b[0m\u001b[0mb\u001b[0m\u001b[1;33m)\u001b[0m\u001b[1;33m)\u001b[0m\u001b[1;33m\u001b[0m\u001b[1;33m\u001b[0m\u001b[0m\n\u001b[0m",
      "\u001b[1;31mNameError\u001b[0m: name 'b' is not defined"
     ]
    }
   ],
   "source": [
    "print(type(b))"
   ]
  },
  {
   "cell_type": "code",
   "execution_count": 23,
   "id": "b4b5939c",
   "metadata": {},
   "outputs": [],
   "source": [
    "#string\n",
    "a = \"SachinTendulkar\""
   ]
  },
  {
   "cell_type": "code",
   "execution_count": 24,
   "id": "ce1df42a",
   "metadata": {},
   "outputs": [
    {
     "name": "stdout",
     "output_type": "stream",
     "text": [
      "15\n"
     ]
    }
   ],
   "source": [
    "print(len(a))"
   ]
  },
  {
   "cell_type": "code",
   "execution_count": 25,
   "id": "b8e8df3f",
   "metadata": {},
   "outputs": [
    {
     "name": "stdout",
     "output_type": "stream",
     "text": [
      "['S', 'T', 'a', 'a', 'c', 'd', 'e', 'h', 'i', 'k', 'l', 'n', 'n', 'r', 'u']\n"
     ]
    }
   ],
   "source": [
    "print(sorted(a))"
   ]
  },
  {
   "cell_type": "code",
   "execution_count": 26,
   "id": "6ade70d6",
   "metadata": {},
   "outputs": [
    {
     "name": "stdout",
     "output_type": "stream",
     "text": [
      "S\n"
     ]
    }
   ],
   "source": [
    "print(min(a))"
   ]
  },
  {
   "cell_type": "code",
   "execution_count": 27,
   "id": "37aefd8f",
   "metadata": {},
   "outputs": [
    {
     "name": "stdout",
     "output_type": "stream",
     "text": [
      "u\n"
     ]
    }
   ],
   "source": [
    "print(max(a))"
   ]
  },
  {
   "cell_type": "code",
   "execution_count": 28,
   "id": "eacc0c2a",
   "metadata": {},
   "outputs": [],
   "source": [
    "# the min and max values are based on the Ascii table values"
   ]
  },
  {
   "cell_type": "code",
   "execution_count": 29,
   "id": "6b086405",
   "metadata": {},
   "outputs": [
    {
     "name": "stdout",
     "output_type": "stream",
     "text": [
      "True\n",
      "True\n",
      "False\n",
      "False\n",
      "False\n",
      "SACHINTENDULKAR\n",
      "sachintendulkar\n",
      "sACHINtENDULKAR\n"
     ]
    }
   ],
   "source": [
    "print(a.isalpha()) # checks if its an alphabet or not\n",
    "print(a.isalnum()) # checks if its an num\n",
    "print(a.isdigit()) # checks if its an digit\n",
    "print(a.isupper()) #checks if its an upper case\n",
    "print(a.islower()) #checks if its an lower case\n",
    "print(a.upper()) # changes into upper case\n",
    "print(a.lower()) #changes into lower case\n",
    "print(a.swapcase()) #changes upper case to lower case"
   ]
  },
  {
   "cell_type": "code",
   "execution_count": 30,
   "id": "c0542706",
   "metadata": {},
   "outputs": [],
   "source": [
    "a = \"welcome to todays class\""
   ]
  },
  {
   "cell_type": "code",
   "execution_count": 31,
   "id": "f8582f17",
   "metadata": {},
   "outputs": [
    {
     "name": "stdout",
     "output_type": "stream",
     "text": [
      "Welcome To Todays Class\n",
      "Welcome to todays class\n"
     ]
    }
   ],
   "source": [
    "print(a.title())\n",
    "print(a.capitalize())"
   ]
  },
  {
   "cell_type": "code",
   "execution_count": null,
   "id": "e1bc21d1",
   "metadata": {},
   "outputs": [],
   "source": []
  }
 ],
 "metadata": {
  "kernelspec": {
   "display_name": "Python 3 (ipykernel)",
   "language": "python",
   "name": "python3"
  },
  "language_info": {
   "codemirror_mode": {
    "name": "ipython",
    "version": 3
   },
   "file_extension": ".py",
   "mimetype": "text/x-python",
   "name": "python",
   "nbconvert_exporter": "python",
   "pygments_lexer": "ipython3",
   "version": "3.9.13"
  }
 },
 "nbformat": 4,
 "nbformat_minor": 5
}
