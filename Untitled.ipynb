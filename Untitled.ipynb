{
 "cells": [
  {
   "cell_type": "code",
   "execution_count": 1,
   "id": "1cb34907",
   "metadata": {},
   "outputs": [
    {
     "name": "stdout",
     "output_type": "stream",
     "text": [
      "dhoni\n"
     ]
    }
   ],
   "source": [
    "print(\"dhoni\")"
   ]
  },
  {
   "cell_type": "code",
   "execution_count": 2,
   "id": "c71101d0",
   "metadata": {},
   "outputs": [
    {
     "name": "stdout",
     "output_type": "stream",
     "text": [
      "dhoni\n",
      "jagan\n"
     ]
    }
   ],
   "source": [
    "print(\"dhoni\\njagan\")"
   ]
  },
  {
   "cell_type": "code",
   "execution_count": 3,
   "id": "f5a5acdd",
   "metadata": {},
   "outputs": [
    {
     "name": "stdout",
     "output_type": "stream",
     "text": [
      "dhoni\tjagan\n"
     ]
    }
   ],
   "source": [
    "print(\"dhoni\\tjagan\")"
   ]
  },
  {
   "cell_type": "code",
   "execution_count": 4,
   "id": "b780fdea",
   "metadata": {},
   "outputs": [],
   "source": [
    "#print(\"dhoni\")"
   ]
  },
  {
   "cell_type": "code",
   "execution_count": 5,
   "id": "f0d49f39",
   "metadata": {},
   "outputs": [],
   "source": [
    "a=\"dhoni\""
   ]
  },
  {
   "cell_type": "code",
   "execution_count": 6,
   "id": "0dd132a2",
   "metadata": {},
   "outputs": [
    {
     "name": "stdout",
     "output_type": "stream",
     "text": [
      "<class 'str'>\n"
     ]
    }
   ],
   "source": [
    "print (type(a))"
   ]
  },
  {
   "cell_type": "code",
   "execution_count": 7,
   "id": "b978b307",
   "metadata": {},
   "outputs": [],
   "source": [
    "a=123"
   ]
  },
  {
   "cell_type": "code",
   "execution_count": 8,
   "id": "c87e358d",
   "metadata": {},
   "outputs": [
    {
     "name": "stdout",
     "output_type": "stream",
     "text": [
      "<class 'int'>\n"
     ]
    }
   ],
   "source": [
    "print (type(a))"
   ]
  },
  {
   "cell_type": "code",
   "execution_count": 9,
   "id": "66ab20a2",
   "metadata": {},
   "outputs": [],
   "source": [
    "a=1.0"
   ]
  },
  {
   "cell_type": "code",
   "execution_count": 10,
   "id": "75de2d7e",
   "metadata": {},
   "outputs": [
    {
     "name": "stdout",
     "output_type": "stream",
     "text": [
      "<class 'float'>\n"
     ]
    }
   ],
   "source": [
    "print (type(a))"
   ]
  },
  {
   "cell_type": "code",
   "execution_count": 11,
   "id": "5c1ee20e",
   "metadata": {},
   "outputs": [
    {
     "name": "stdout",
     "output_type": "stream",
     "text": [
      "SamanthaRuthPrabhu\n"
     ]
    }
   ],
   "source": [
    "print(\"SamanthaRuthPrabhu\")"
   ]
  },
  {
   "cell_type": "code",
   "execution_count": 13,
   "id": "38685572",
   "metadata": {},
   "outputs": [],
   "source": [
    "a=\"SamanthaRuthPrabhu\""
   ]
  },
  {
   "cell_type": "code",
   "execution_count": 15,
   "id": "a7239d1c",
   "metadata": {},
   "outputs": [
    {
     "name": "stdout",
     "output_type": "stream",
     "text": [
      "18\n"
     ]
    }
   ],
   "source": [
    "print(len(a))"
   ]
  },
  {
   "cell_type": "code",
   "execution_count": 16,
   "id": "0b20890a",
   "metadata": {},
   "outputs": [
    {
     "name": "stdout",
     "output_type": "stream",
     "text": [
      "P\n"
     ]
    }
   ],
   "source": [
    "print(min(a))"
   ]
  },
  {
   "cell_type": "code",
   "execution_count": 17,
   "id": "71b6c50c",
   "metadata": {},
   "outputs": [
    {
     "name": "stdout",
     "output_type": "stream",
     "text": [
      "u\n"
     ]
    }
   ],
   "source": [
    "print(max(a))"
   ]
  },
  {
   "cell_type": "code",
   "execution_count": 18,
   "id": "efe20c2a",
   "metadata": {},
   "outputs": [
    {
     "name": "stdout",
     "output_type": "stream",
     "text": [
      "True\n"
     ]
    }
   ],
   "source": [
    "print(a.isalpha())"
   ]
  },
  {
   "cell_type": "code",
   "execution_count": 19,
   "id": "5a956753",
   "metadata": {},
   "outputs": [
    {
     "name": "stdout",
     "output_type": "stream",
     "text": [
      "False\n"
     ]
    }
   ],
   "source": [
    "print(isinstance(a,int))"
   ]
  },
  {
   "cell_type": "code",
   "execution_count": 20,
   "id": "9b36f82e",
   "metadata": {},
   "outputs": [
    {
     "name": "stdout",
     "output_type": "stream",
     "text": [
      "True\n"
     ]
    }
   ],
   "source": [
    "print(isinstance(a,str))"
   ]
  },
  {
   "cell_type": "code",
   "execution_count": 21,
   "id": "54c8f8bb",
   "metadata": {},
   "outputs": [
    {
     "ename": "NameError",
     "evalue": "name 'alpha' is not defined",
     "output_type": "error",
     "traceback": [
      "\u001b[1;31m---------------------------------------------------------------------------\u001b[0m",
      "\u001b[1;31mNameError\u001b[0m                                 Traceback (most recent call last)",
      "\u001b[1;32m~\\AppData\\Local\\Temp\\ipykernel_11840\\1816660482.py\u001b[0m in \u001b[0;36m<module>\u001b[1;34m\u001b[0m\n\u001b[1;32m----> 1\u001b[1;33m \u001b[0mprint\u001b[0m\u001b[1;33m(\u001b[0m\u001b[0misinstance\u001b[0m\u001b[1;33m(\u001b[0m\u001b[0ma\u001b[0m\u001b[1;33m,\u001b[0m\u001b[0malpha\u001b[0m\u001b[1;33m)\u001b[0m\u001b[1;33m)\u001b[0m\u001b[1;33m\u001b[0m\u001b[1;33m\u001b[0m\u001b[0m\n\u001b[0m",
      "\u001b[1;31mNameError\u001b[0m: name 'alpha' is not defined"
     ]
    }
   ],
   "source": [
    "print(isinstance(a,alpha))"
   ]
  },
  {
   "cell_type": "code",
   "execution_count": 22,
   "id": "8f50d011",
   "metadata": {},
   "outputs": [
    {
     "name": "stdout",
     "output_type": "stream",
     "text": [
      "False\n"
     ]
    }
   ],
   "source": [
    "print(a.isdigit())"
   ]
  },
  {
   "cell_type": "code",
   "execution_count": 25,
   "id": "c2b13c2d",
   "metadata": {},
   "outputs": [
    {
     "name": "stdout",
     "output_type": "stream",
     "text": [
      "sAMANTHArUTHpRABHU\n"
     ]
    }
   ],
   "source": [
    "print(a.swapcase())"
   ]
  },
  {
   "cell_type": "code",
   "execution_count": 26,
   "id": "3f571f59",
   "metadata": {},
   "outputs": [
    {
     "name": "stdout",
     "output_type": "stream",
     "text": [
      "SAMANTHARUTHPRABHU\n"
     ]
    }
   ],
   "source": [
    "print(a.upper())"
   ]
  },
  {
   "cell_type": "code",
   "execution_count": 27,
   "id": "4c74f29d",
   "metadata": {},
   "outputs": [
    {
     "name": "stdout",
     "output_type": "stream",
     "text": [
      "samantharuthprabhu\n"
     ]
    }
   ],
   "source": [
    "print(a.lower())"
   ]
  },
  {
   "cell_type": "code",
   "execution_count": 28,
   "id": "ae0686e7",
   "metadata": {},
   "outputs": [],
   "source": [
    "a=\"Kovshikanand\""
   ]
  },
  {
   "cell_type": "code",
   "execution_count": 29,
   "id": "df9cbe9f",
   "metadata": {},
   "outputs": [],
   "source": [
    "a=\"kovshikanand\""
   ]
  },
  {
   "cell_type": "code",
   "execution_count": 31,
   "id": "07cac132",
   "metadata": {},
   "outputs": [
    {
     "name": "stdout",
     "output_type": "stream",
     "text": [
      "vshikana\n"
     ]
    }
   ],
   "source": [
    "print(a[2:10])"
   ]
  },
  {
   "cell_type": "code",
   "execution_count": 32,
   "id": "767dd060",
   "metadata": {},
   "outputs": [
    {
     "name": "stdout",
     "output_type": "stream",
     "text": [
      "vhknn\n"
     ]
    }
   ],
   "source": [
    "print(a[2:12:2])"
   ]
  },
  {
   "cell_type": "code",
   "execution_count": 33,
   "id": "b62fb32e",
   "metadata": {},
   "outputs": [
    {
     "name": "stdout",
     "output_type": "stream",
     "text": [
      "d\n"
     ]
    }
   ],
   "source": [
    "print(a[-1])"
   ]
  },
  {
   "cell_type": "code",
   "execution_count": 34,
   "id": "1f93f442",
   "metadata": {},
   "outputs": [
    {
     "name": "stdout",
     "output_type": "stream",
     "text": [
      "kovshikanan\n"
     ]
    }
   ],
   "source": [
    "print(a[:-1])"
   ]
  },
  {
   "cell_type": "code",
   "execution_count": 36,
   "id": "8a4b4976",
   "metadata": {},
   "outputs": [
    {
     "name": "stdout",
     "output_type": "stream",
     "text": [
      "d\n"
     ]
    }
   ],
   "source": [
    "print(a[-1:])"
   ]
  },
  {
   "cell_type": "code",
   "execution_count": 37,
   "id": "17db177f",
   "metadata": {},
   "outputs": [
    {
     "name": "stdout",
     "output_type": "stream",
     "text": [
      "k\n"
     ]
    }
   ],
   "source": [
    "print(a[0])"
   ]
  },
  {
   "cell_type": "code",
   "execution_count": 38,
   "id": "571d701e",
   "metadata": {},
   "outputs": [
    {
     "name": "stdout",
     "output_type": "stream",
     "text": [
      "hikanan\n"
     ]
    }
   ],
   "source": [
    "print(a[4:-1])"
   ]
  },
  {
   "cell_type": "code",
   "execution_count": 39,
   "id": "638946e7",
   "metadata": {},
   "outputs": [
    {
     "name": "stdout",
     "output_type": "stream",
     "text": [
      "kovshikanand\n"
     ]
    }
   ],
   "source": [
    "print(a[::])"
   ]
  },
  {
   "cell_type": "code",
   "execution_count": 40,
   "id": "88e5dff3",
   "metadata": {},
   "outputs": [],
   "source": [
    "a=(1,2,3,4)"
   ]
  },
  {
   "cell_type": "code",
   "execution_count": 41,
   "id": "a47815c7",
   "metadata": {},
   "outputs": [
    {
     "name": "stdout",
     "output_type": "stream",
     "text": [
      "<class 'tuple'>\n"
     ]
    }
   ],
   "source": [
    "print(type(a))"
   ]
  },
  {
   "cell_type": "code",
   "execution_count": 43,
   "id": "53aeba5b",
   "metadata": {},
   "outputs": [
    {
     "ename": "AttributeError",
     "evalue": "'tuple' object has no attribute 'rindex'",
     "output_type": "error",
     "traceback": [
      "\u001b[1;31m---------------------------------------------------------------------------\u001b[0m",
      "\u001b[1;31mAttributeError\u001b[0m                            Traceback (most recent call last)",
      "\u001b[1;32m~\\AppData\\Local\\Temp\\ipykernel_11840\\2525286306.py\u001b[0m in \u001b[0;36m<module>\u001b[1;34m\u001b[0m\n\u001b[1;32m----> 1\u001b[1;33m \u001b[0mprint\u001b[0m\u001b[1;33m(\u001b[0m\u001b[0ma\u001b[0m\u001b[1;33m.\u001b[0m\u001b[0mrindex\u001b[0m\u001b[1;33m(\u001b[0m\u001b[1;36m1\u001b[0m\u001b[1;33m)\u001b[0m\u001b[1;33m)\u001b[0m\u001b[1;33m\u001b[0m\u001b[1;33m\u001b[0m\u001b[0m\n\u001b[0m",
      "\u001b[1;31mAttributeError\u001b[0m: 'tuple' object has no attribute 'rindex'"
     ]
    }
   ],
   "source": [
    "print(a.find(1))"
   ]
  },
  {
   "cell_type": "code",
   "execution_count": 44,
   "id": "a80eea2c",
   "metadata": {},
   "outputs": [],
   "source": [
    "a= \"warren buffet\""
   ]
  },
  {
   "cell_type": "code",
   "execution_count": 45,
   "id": "ed40f345",
   "metadata": {},
   "outputs": [
    {
     "ename": "SyntaxError",
     "evalue": "invalid syntax (464131590.py, line 1)",
     "output_type": "error",
     "traceback": [
      "\u001b[1;36m  File \u001b[1;32m\"C:\\Users\\kovhik anand t\\AppData\\Local\\Temp\\ipykernel_11840\\464131590.py\"\u001b[1;36m, line \u001b[1;32m1\u001b[0m\n\u001b[1;33m    a{1}\u001b[0m\n\u001b[1;37m     ^\u001b[0m\n\u001b[1;31mSyntaxError\u001b[0m\u001b[1;31m:\u001b[0m invalid syntax\n"
     ]
    }
   ],
   "source": [
    "a{1}"
   ]
  },
  {
   "cell_type": "code",
   "execution_count": 46,
   "id": "2e5db49b",
   "metadata": {},
   "outputs": [
    {
     "data": {
      "text/plain": [
       "'a'"
      ]
     },
     "execution_count": 46,
     "metadata": {},
     "output_type": "execute_result"
    }
   ],
   "source": [
    "a[1]"
   ]
  },
  {
   "cell_type": "code",
   "execution_count": 47,
   "id": "6839967d",
   "metadata": {},
   "outputs": [
    {
     "data": {
      "text/plain": [
       "'e'"
      ]
     },
     "execution_count": 47,
     "metadata": {},
     "output_type": "execute_result"
    }
   ],
   "source": [
    "a[4\n",
    "]"
   ]
  },
  {
   "cell_type": "code",
   "execution_count": 48,
   "id": "51bcf416",
   "metadata": {},
   "outputs": [
    {
     "ename": "TypeError",
     "evalue": "'str' object is not callable",
     "output_type": "error",
     "traceback": [
      "\u001b[1;31m---------------------------------------------------------------------------\u001b[0m",
      "\u001b[1;31mTypeError\u001b[0m                                 Traceback (most recent call last)",
      "\u001b[1;32m~\\AppData\\Local\\Temp\\ipykernel_11840\\2884796381.py\u001b[0m in \u001b[0;36m<module>\u001b[1;34m\u001b[0m\n\u001b[1;32m----> 1\u001b[1;33m \u001b[0ma\u001b[0m\u001b[1;33m(\u001b[0m\u001b[1;36m2\u001b[0m\u001b[1;33m)\u001b[0m\u001b[1;33m\u001b[0m\u001b[1;33m\u001b[0m\u001b[0m\n\u001b[0m",
      "\u001b[1;31mTypeError\u001b[0m: 'str' object is not callable"
     ]
    }
   ],
   "source": [
    "a(2)"
   ]
  },
  {
   "cell_type": "code",
   "execution_count": 49,
   "id": "90bd67cd",
   "metadata": {},
   "outputs": [
    {
     "name": "stdout",
     "output_type": "stream",
     "text": [
      "n\n"
     ]
    }
   ],
   "source": [
    "print(a[5])"
   ]
  },
  {
   "cell_type": "code",
   "execution_count": 50,
   "id": "784f62bf",
   "metadata": {},
   "outputs": [],
   "source": [
    "a=\"mahendra singh dhoni\""
   ]
  },
  {
   "cell_type": "code",
   "execution_count": 51,
   "id": "26cd4045",
   "metadata": {},
   "outputs": [
    {
     "name": "stdout",
     "output_type": "stream",
     "text": [
      " \n"
     ]
    }
   ],
   "source": [
    "print(a[8])"
   ]
  },
  {
   "cell_type": "code",
   "execution_count": 52,
   "id": "1ee44d52",
   "metadata": {},
   "outputs": [
    {
     "name": "stdout",
     "output_type": "stream",
     "text": [
      "ahendra s\n"
     ]
    }
   ],
   "source": [
    "print(a[1:10])"
   ]
  },
  {
   "cell_type": "code",
   "execution_count": 53,
   "id": "3e583c79",
   "metadata": {},
   "outputs": [
    {
     "name": "stdout",
     "output_type": "stream",
     "text": [
      "mahendra singh dhoni\n"
     ]
    }
   ],
   "source": [
    "print(a[::])"
   ]
  },
  {
   "cell_type": "code",
   "execution_count": 54,
   "id": "e065f05d",
   "metadata": {},
   "outputs": [
    {
     "name": "stdout",
     "output_type": "stream",
     "text": [
      "inohd hgnis ardneham\n"
     ]
    }
   ],
   "source": [
    "print(a[::-1])"
   ]
  },
  {
   "cell_type": "code",
   "execution_count": 57,
   "id": "ead5578c",
   "metadata": {},
   "outputs": [
    {
     "name": "stdout",
     "output_type": "stream",
     "text": [
      "s\n"
     ]
    }
   ],
   "source": [
    "print(a[9])"
   ]
  },
  {
   "cell_type": "code",
   "execution_count": 58,
   "id": "0e7cefa1",
   "metadata": {},
   "outputs": [
    {
     "name": "stdout",
     "output_type": "stream",
     "text": [
      "d\n"
     ]
    }
   ],
   "source": [
    "print(a[-5])"
   ]
  },
  {
   "cell_type": "code",
   "execution_count": 61,
   "id": "67a9921f",
   "metadata": {},
   "outputs": [
    {
     "name": "stdout",
     "output_type": "stream",
     "text": [
      "MAHENDRA SINGH DHONI\n"
     ]
    }
   ],
   "source": [
    "print(a.swapcase())"
   ]
  },
  {
   "cell_type": "code",
   "execution_count": 62,
   "id": "2a4c9baf",
   "metadata": {},
   "outputs": [
    {
     "name": "stdout",
     "output_type": "stream",
     "text": [
      "MAHENDRA SINGH DHONI\n"
     ]
    }
   ],
   "source": [
    "print(a.upper())"
   ]
  },
  {
   "cell_type": "code",
   "execution_count": 63,
   "id": "622645c4",
   "metadata": {},
   "outputs": [
    {
     "name": "stdout",
     "output_type": "stream",
     "text": [
      "mahendra singh dhoni\n"
     ]
    }
   ],
   "source": [
    "print(a.lower())"
   ]
  },
  {
   "cell_type": "code",
   "execution_count": 65,
   "id": "a1dcf882",
   "metadata": {},
   "outputs": [
    {
     "name": "stdout",
     "output_type": "stream",
     "text": [
      "mahendra singh dhoni\n"
     ]
    }
   ],
   "source": [
    "print(a.lower())"
   ]
  },
  {
   "cell_type": "code",
   "execution_count": 67,
   "id": "c229f5dc",
   "metadata": {},
   "outputs": [
    {
     "name": "stdout",
     "output_type": "stream",
     "text": [
      "Mahendra Singh Dhoni\n"
     ]
    }
   ],
   "source": [
    "print(a.title())"
   ]
  },
  {
   "cell_type": "code",
   "execution_count": 81,
   "id": "49733bab",
   "metadata": {},
   "outputs": [
    {
     "ename": "SyntaxError",
     "evalue": "invalid syntax (4094978323.py, line 1)",
     "output_type": "error",
     "traceback": [
      "\u001b[1;36m  File \u001b[1;32m\"C:\\Users\\kovhik anand t\\AppData\\Local\\Temp\\ipykernel_11840\\4094978323.py\"\u001b[1;36m, line \u001b[1;32m1\u001b[0m\n\u001b[1;33m    print a= ([\"kovshikanand\"],\u001b[0m\n\u001b[1;37m          ^\u001b[0m\n\u001b[1;31mSyntaxError\u001b[0m\u001b[1;31m:\u001b[0m invalid syntax\n"
     ]
    }
   ],
   "source": [
    "print a= ([\"kovshikanand\"],\n",
    "[\"12345\"])"
   ]
  },
  {
   "cell_type": "code",
   "execution_count": 84,
   "id": "02c9efcf",
   "metadata": {},
   "outputs": [
    {
     "ename": "TypeError",
     "evalue": "'a' is an invalid keyword argument for print()",
     "output_type": "error",
     "traceback": [
      "\u001b[1;31m---------------------------------------------------------------------------\u001b[0m",
      "\u001b[1;31mTypeError\u001b[0m                                 Traceback (most recent call last)",
      "\u001b[1;32m~\\AppData\\Local\\Temp\\ipykernel_11840\\2948225264.py\u001b[0m in \u001b[0;36m<module>\u001b[1;34m\u001b[0m\n\u001b[1;32m----> 1\u001b[1;33m \u001b[0mprint\u001b[0m\u001b[1;33m(\u001b[0m\u001b[0ma\u001b[0m \u001b[1;33m=\u001b[0m \u001b[1;33m[\u001b[0m\u001b[1;36m1\u001b[0m\u001b[1;33m,\u001b[0m\u001b[1;36m2\u001b[0m\u001b[1;33m,\u001b[0m\u001b[1;36m3\u001b[0m\u001b[1;33m,\u001b[0m\u001b[1;36m4\u001b[0m\u001b[1;33m]\u001b[0m\u001b[1;33m)\u001b[0m\u001b[1;33m\u001b[0m\u001b[1;33m\u001b[0m\u001b[0m\n\u001b[0m",
      "\u001b[1;31mTypeError\u001b[0m: 'a' is an invalid keyword argument for print()"
     ]
    }
   ],
   "source": [
    " print(a = [1,2,3,4])"
   ]
  },
  {
   "cell_type": "code",
   "execution_count": 85,
   "id": "e8600b14",
   "metadata": {},
   "outputs": [],
   "source": [
    "a= [1,2,3]"
   ]
  },
  {
   "cell_type": "code",
   "execution_count": 86,
   "id": "5d72350c",
   "metadata": {},
   "outputs": [
    {
     "name": "stdout",
     "output_type": "stream",
     "text": [
      "[1, 2, 3]\n"
     ]
    }
   ],
   "source": [
    "print(a)"
   ]
  },
  {
   "cell_type": "code",
   "execution_count": 88,
   "id": "fcbb4b8a",
   "metadata": {},
   "outputs": [
    {
     "data": {
      "text/plain": [
       "[1, 2, 3]"
      ]
     },
     "execution_count": 88,
     "metadata": {},
     "output_type": "execute_result"
    }
   ],
   "source": [
    "a"
   ]
  },
  {
   "cell_type": "code",
   "execution_count": 89,
   "id": "8854e566",
   "metadata": {},
   "outputs": [],
   "source": [
    "a=\"kovshikanand\""
   ]
  },
  {
   "cell_type": "code",
   "execution_count": 91,
   "id": "43c35924",
   "metadata": {},
   "outputs": [
    {
     "name": "stdout",
     "output_type": "stream",
     "text": [
      "3\n"
     ]
    }
   ],
   "source": [
    "print(a.rindex(\"s\"))"
   ]
  },
  {
   "cell_type": "code",
   "execution_count": 108,
   "id": "e9db4849",
   "metadata": {},
   "outputs": [
    {
     "name": "stdout",
     "output_type": "stream",
     "text": [
      "6\n"
     ]
    }
   ],
   "source": [
    "print(a.rindex(\"k\"))"
   ]
  },
  {
   "cell_type": "code",
   "execution_count": 131,
   "id": "0a149de8",
   "metadata": {},
   "outputs": [
    {
     "name": "stdout",
     "output_type": "stream",
     "text": [
      "11\n"
     ]
    }
   ],
   "source": [
    "print(a.find(\"d\"))"
   ]
  },
  {
   "cell_type": "code",
   "execution_count": 132,
   "id": "a11c3edd",
   "metadata": {},
   "outputs": [],
   "source": [
    "a=\"kovshikanand\""
   ]
  },
  {
   "cell_type": "code",
   "execution_count": 135,
   "id": "29a46567",
   "metadata": {},
   "outputs": [
    {
     "name": "stdout",
     "output_type": "stream",
     "text": [
      "11\n"
     ]
    }
   ],
   "source": [
    "print(a.find(\"d\"))"
   ]
  },
  {
   "cell_type": "code",
   "execution_count": 136,
   "id": "e3e33b6a",
   "metadata": {},
   "outputs": [
    {
     "name": "stdout",
     "output_type": "stream",
     "text": [
      "11\n"
     ]
    }
   ],
   "source": [
    "print(a.rfind(\"d\"))"
   ]
  },
  {
   "cell_type": "code",
   "execution_count": 137,
   "id": "c1d690d9",
   "metadata": {},
   "outputs": [],
   "source": [
    "a=\"kovshik\""
   ]
  },
  {
   "cell_type": "code",
   "execution_count": 138,
   "id": "46690884",
   "metadata": {},
   "outputs": [
    {
     "name": "stdout",
     "output_type": "stream",
     "text": [
      "5\n"
     ]
    }
   ],
   "source": [
    "print(a.find(\"i\"))"
   ]
  },
  {
   "cell_type": "code",
   "execution_count": 139,
   "id": "5e32489f",
   "metadata": {},
   "outputs": [
    {
     "name": "stdout",
     "output_type": "stream",
     "text": [
      "5\n"
     ]
    }
   ],
   "source": [
    "print(a.rfind(\"i\"))"
   ]
  },
  {
   "cell_type": "code",
   "execution_count": 140,
   "id": "7fa405bd",
   "metadata": {},
   "outputs": [],
   "source": [
    "a=\"kovshik anand\""
   ]
  },
  {
   "cell_type": "code",
   "execution_count": 141,
   "id": "c492edef",
   "metadata": {},
   "outputs": [
    {
     "name": "stdout",
     "output_type": "stream",
     "text": [
      "5\n"
     ]
    }
   ],
   "source": [
    "print(a.find(\"i\"))"
   ]
  },
  {
   "cell_type": "code",
   "execution_count": 142,
   "id": "d4f072b9",
   "metadata": {},
   "outputs": [
    {
     "name": "stdout",
     "output_type": "stream",
     "text": [
      "5\n"
     ]
    }
   ],
   "source": [
    "print(a.rfind(\"i\"))"
   ]
  },
  {
   "cell_type": "code",
   "execution_count": 143,
   "id": "05c995e5",
   "metadata": {},
   "outputs": [
    {
     "name": "stdout",
     "output_type": "stream",
     "text": [
      "4\n"
     ]
    }
   ],
   "source": [
    "print(a.find(\"h\"))"
   ]
  },
  {
   "cell_type": "code",
   "execution_count": 144,
   "id": "f493bad8",
   "metadata": {},
   "outputs": [
    {
     "name": "stdout",
     "output_type": "stream",
     "text": [
      "4\n"
     ]
    }
   ],
   "source": [
    "print(a.rfind(\"h\"))"
   ]
  },
  {
   "cell_type": "code",
   "execution_count": 145,
   "id": "e86461d8",
   "metadata": {},
   "outputs": [],
   "source": [
    "a=\"kovshikanand\""
   ]
  },
  {
   "cell_type": "code",
   "execution_count": 146,
   "id": "73c9824a",
   "metadata": {},
   "outputs": [
    {
     "name": "stdout",
     "output_type": "stream",
     "text": [
      "6\n"
     ]
    }
   ],
   "source": [
    "print(a.rfind(\"k\"))"
   ]
  },
  {
   "cell_type": "code",
   "execution_count": 148,
   "id": "3c0f84c1",
   "metadata": {},
   "outputs": [
    {
     "name": "stdout",
     "output_type": "stream",
     "text": [
      "0\n"
     ]
    }
   ],
   "source": [
    "print(a.find(\"k\"))"
   ]
  },
  {
   "cell_type": "code",
   "execution_count": 149,
   "id": "c4bb5096",
   "metadata": {},
   "outputs": [],
   "source": [
    "a=\"kovshikanand\""
   ]
  },
  {
   "cell_type": "code",
   "execution_count": 150,
   "id": "ecf7fe7d",
   "metadata": {},
   "outputs": [
    {
     "name": "stdout",
     "output_type": "stream",
     "text": [
      "4\n"
     ]
    }
   ],
   "source": [
    "print(a.rfind(\"h\"))"
   ]
  },
  {
   "cell_type": "code",
   "execution_count": 151,
   "id": "411ce842",
   "metadata": {},
   "outputs": [
    {
     "name": "stdout",
     "output_type": "stream",
     "text": [
      "4\n"
     ]
    }
   ],
   "source": [
    "print(a.find(\"h\"))"
   ]
  },
  {
   "cell_type": "code",
   "execution_count": 152,
   "id": "7f9ea7ac",
   "metadata": {},
   "outputs": [
    {
     "name": "stdout",
     "output_type": "stream",
     "text": [
      "7\n"
     ]
    }
   ],
   "source": [
    "print(a.find(\"a\"))"
   ]
  },
  {
   "cell_type": "code",
   "execution_count": 153,
   "id": "5eb2a0c3",
   "metadata": {},
   "outputs": [
    {
     "name": "stdout",
     "output_type": "stream",
     "text": [
      "9\n"
     ]
    }
   ],
   "source": [
    "print(a.rfind(\"a\"))"
   ]
  },
  {
   "cell_type": "code",
   "execution_count": 154,
   "id": "cdf3d92f",
   "metadata": {},
   "outputs": [
    {
     "name": "stdout",
     "output_type": "stream",
     "text": [
      "4\n"
     ]
    }
   ],
   "source": [
    "print(a.rindex(\"h\"))"
   ]
  },
  {
   "cell_type": "code",
   "execution_count": 155,
   "id": "10c3c0ee",
   "metadata": {},
   "outputs": [
    {
     "name": "stdout",
     "output_type": "stream",
     "text": [
      "4\n"
     ]
    }
   ],
   "source": [
    "print(a.index(\"h\"))"
   ]
  },
  {
   "cell_type": "code",
   "execution_count": 156,
   "id": "3256e689",
   "metadata": {},
   "outputs": [],
   "source": [
    "a=\"kovshik\""
   ]
  },
  {
   "cell_type": "code",
   "execution_count": 157,
   "id": "5f3808a1",
   "metadata": {},
   "outputs": [],
   "source": [
    "a=\"hiedabos\""
   ]
  },
  {
   "cell_type": "code",
   "execution_count": 159,
   "id": "facf6f51",
   "metadata": {},
   "outputs": [
    {
     "name": "stdout",
     "output_type": "stream",
     "text": [
      "0\n"
     ]
    }
   ],
   "source": [
    "print(a.index(\"h\"))"
   ]
  },
  {
   "cell_type": "code",
   "execution_count": 1,
   "id": "e34e1dc9",
   "metadata": {},
   "outputs": [],
   "source": [
    "a=\"Kovshikanand\""
   ]
  },
  {
   "cell_type": "code",
   "execution_count": 2,
   "id": "c5f26ad6",
   "metadata": {},
   "outputs": [
    {
     "name": "stdout",
     "output_type": "stream",
     "text": [
      "Kovshikanan\n"
     ]
    }
   ],
   "source": [
    "print(a[:-1])"
   ]
  },
  {
   "cell_type": "code",
   "execution_count": 3,
   "id": "7da4b39f",
   "metadata": {},
   "outputs": [
    {
     "name": "stdout",
     "output_type": "stream",
     "text": [
      "dnanakihsvoK\n"
     ]
    }
   ],
   "source": [
    "print(a[::-1])"
   ]
  },
  {
   "cell_type": "code",
   "execution_count": 4,
   "id": "fc2186c6",
   "metadata": {},
   "outputs": [
    {
     "name": "stdout",
     "output_type": "stream",
     "text": [
      "3\n"
     ]
    }
   ],
   "source": [
    "print(a.index(\"s\"))"
   ]
  },
  {
   "cell_type": "code",
   "execution_count": 8,
   "id": "2f0f9990",
   "metadata": {},
   "outputs": [
    {
     "name": "stdout",
     "output_type": "stream",
     "text": [
      "6\n"
     ]
    }
   ],
   "source": [
    "print(a.index(\"k\"))"
   ]
  },
  {
   "cell_type": "code",
   "execution_count": 10,
   "id": "cae55d3c",
   "metadata": {},
   "outputs": [],
   "source": [
    "a=\"kovshikanand\""
   ]
  },
  {
   "cell_type": "code",
   "execution_count": 11,
   "id": "b8128848",
   "metadata": {},
   "outputs": [
    {
     "name": "stdout",
     "output_type": "stream",
     "text": [
      "0\n"
     ]
    }
   ],
   "source": [
    "print(a.index(\"k\"))"
   ]
  },
  {
   "cell_type": "code",
   "execution_count": 12,
   "id": "7a542e02",
   "metadata": {},
   "outputs": [
    {
     "name": "stdout",
     "output_type": "stream",
     "text": [
      "6\n"
     ]
    }
   ],
   "source": [
    "print(a.index(\"k\",2))"
   ]
  },
  {
   "cell_type": "code",
   "execution_count": 13,
   "id": "aba9c963",
   "metadata": {},
   "outputs": [
    {
     "name": "stdout",
     "output_type": "stream",
     "text": [
      "6\n"
     ]
    }
   ],
   "source": [
    "print(a.rindex(\"k\"))"
   ]
  },
  {
   "cell_type": "code",
   "execution_count": 14,
   "id": "453feafd",
   "metadata": {},
   "outputs": [
    {
     "name": "stdout",
     "output_type": "stream",
     "text": [
      "-1\n"
     ]
    }
   ],
   "source": [
    "print(a.find(\"z\"))"
   ]
  },
  {
   "cell_type": "code",
   "execution_count": 16,
   "id": "6ccc7c21",
   "metadata": {},
   "outputs": [
    {
     "name": "stdout",
     "output_type": "stream",
     "text": [
      "2\n"
     ]
    }
   ],
   "source": [
    "print(a.count(\"a\"))"
   ]
  },
  {
   "cell_type": "code",
   "execution_count": 17,
   "id": "13d7a337",
   "metadata": {},
   "outputs": [
    {
     "name": "stdout",
     "output_type": "stream",
     "text": [
      "kovshik@n@nd\n"
     ]
    }
   ],
   "source": [
    "print(a.replace(\"a\",\"@\"))"
   ]
  },
  {
   "cell_type": "code",
   "execution_count": 18,
   "id": "581d0b5e",
   "metadata": {},
   "outputs": [
    {
     "name": "stdout",
     "output_type": "stream",
     "text": [
      "['kovshik', 'n', 'nd']\n"
     ]
    }
   ],
   "source": [
    "print(a.split(\"a\"))"
   ]
  },
  {
   "cell_type": "code",
   "execution_count": 19,
   "id": "bacb5ebe",
   "metadata": {},
   "outputs": [
    {
     "name": "stdout",
     "output_type": "stream",
     "text": [
      "['kovshik', 'n', 'nd']\n"
     ]
    }
   ],
   "source": [
    "print(a.split(\"a\",7))"
   ]
  },
  {
   "cell_type": "code",
   "execution_count": 20,
   "id": "768ff9a1",
   "metadata": {},
   "outputs": [],
   "source": [
    "a=\"kovshikanand\""
   ]
  },
  {
   "cell_type": "code",
   "execution_count": 21,
   "id": "49d68ba3",
   "metadata": {},
   "outputs": [
    {
     "name": "stdout",
     "output_type": "stream",
     "text": [
      "['', 'ovshi', 'anand']\n"
     ]
    }
   ],
   "source": [
    "print(a.split(\"k\",2))"
   ]
  },
  {
   "cell_type": "code",
   "execution_count": 35,
   "id": "f0611ed9",
   "metadata": {},
   "outputs": [
    {
     "name": "stdout",
     "output_type": "stream",
     "text": [
      "['kovshikanand']\n"
     ]
    }
   ],
   "source": [
    "print(a.split(\"v\",0))"
   ]
  },
  {
   "cell_type": "code",
   "execution_count": 36,
   "id": "dc44659f",
   "metadata": {},
   "outputs": [],
   "source": [
    "a=\"kovshikanand\""
   ]
  },
  {
   "cell_type": "code",
   "execution_count": 40,
   "id": "f833756e",
   "metadata": {},
   "outputs": [
    {
     "name": "stdout",
     "output_type": "stream",
     "text": [
      "['kovshik', 'n', 'nd']\n"
     ]
    }
   ],
   "source": [
    "print(a.split(\"a\"))"
   ]
  },
  {
   "cell_type": "code",
   "execution_count": 41,
   "id": "cdf688e4",
   "metadata": {},
   "outputs": [],
   "source": [
    "a=\"sachintendulkar\""
   ]
  },
  {
   "cell_type": "code",
   "execution_count": 42,
   "id": "08294fd0",
   "metadata": {},
   "outputs": [
    {
     "name": "stdout",
     "output_type": "stream",
     "text": [
      "['s', 'chintendulk', 'r']\n",
      "['s', 'chintendulkar']\n"
     ]
    }
   ],
   "source": [
    "print(a.split(\"a\"))\n",
    "print(a.split(\"a\",1))"
   ]
  },
  {
   "cell_type": "code",
   "execution_count": 43,
   "id": "041570f6",
   "metadata": {},
   "outputs": [],
   "source": [
    "a=[\"kovshik\",\"chennai\",\"25\"]"
   ]
  },
  {
   "cell_type": "code",
   "execution_count": 48,
   "id": "4affe85d",
   "metadata": {},
   "outputs": [
    {
     "name": "stdout",
     "output_type": "stream",
     "text": [
      "True\n"
     ]
    }
   ],
   "source": [
    "print(isinstance(a,list))"
   ]
  },
  {
   "cell_type": "code",
   "execution_count": 49,
   "id": "eaf832e7",
   "metadata": {},
   "outputs": [
    {
     "data": {
      "text/plain": [
       "list"
      ]
     },
     "execution_count": 49,
     "metadata": {},
     "output_type": "execute_result"
    }
   ],
   "source": [
    "type(a)"
   ]
  },
  {
   "cell_type": "code",
   "execution_count": 50,
   "id": "79343402",
   "metadata": {},
   "outputs": [
    {
     "name": "stdout",
     "output_type": "stream",
     "text": [
      "<class 'list'>\n"
     ]
    }
   ],
   "source": [
    "print(type(a))"
   ]
  },
  {
   "cell_type": "code",
   "execution_count": 51,
   "id": "f2d68663",
   "metadata": {},
   "outputs": [
    {
     "name": "stdout",
     "output_type": "stream",
     "text": [
      "['25', 'chennai', 'kovshik']\n"
     ]
    }
   ],
   "source": [
    "print(sorted(a))"
   ]
  },
  {
   "cell_type": "code",
   "execution_count": 52,
   "id": "877437a8",
   "metadata": {},
   "outputs": [],
   "source": [
    "a=[\"1\",\"a\",\"b\",\"100\"]"
   ]
  },
  {
   "cell_type": "code",
   "execution_count": 53,
   "id": "8c3e03bf",
   "metadata": {},
   "outputs": [
    {
     "name": "stdout",
     "output_type": "stream",
     "text": [
      "['1', '100', 'a', 'b']\n"
     ]
    }
   ],
   "source": [
    "print(sorted(a))"
   ]
  },
  {
   "cell_type": "code",
   "execution_count": null,
   "id": "c2cbd87a",
   "metadata": {},
   "outputs": [],
   "source": []
  }
 ],
 "metadata": {
  "kernelspec": {
   "display_name": "Python 3 (ipykernel)",
   "language": "python",
   "name": "python3"
  },
  "language_info": {
   "codemirror_mode": {
    "name": "ipython",
    "version": 3
   },
   "file_extension": ".py",
   "mimetype": "text/x-python",
   "name": "python",
   "nbconvert_exporter": "python",
   "pygments_lexer": "ipython3",
   "version": "3.9.13"
  }
 },
 "nbformat": 4,
 "nbformat_minor": 5
}
